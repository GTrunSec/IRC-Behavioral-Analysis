{
 "cells": [
  {
   "cell_type": "markdown",
   "metadata": {},
   "source": [
    "# IRC Behavioral Analysis"
   ]
  },
  {
   "cell_type": "markdown",
   "metadata": {},
   "source": [
    "### Imports"
   ]
  },
  {
   "cell_type": "code",
   "execution_count": 13,
   "metadata": {},
   "outputs": [],
   "source": [
    "import zat\n",
    "import pandas as pd\n",
    "import numpy as np\n",
    "import matplotlib.pyplot as plt\n",
    "from datetime import datetime, timedelta\n",
    "from zat.log_to_dataframe import LogToDataFrame\n",
    "from zat.bro_log_reader import BroLogReader\n",
    "from collections import defaultdict\n",
    "import numba"
   ]
  },
  {
   "cell_type": "markdown",
   "metadata": {},
   "source": [
    "## Loading Data"
   ]
  },
  {
   "cell_type": "code",
   "execution_count": 14,
   "metadata": {},
   "outputs": [],
   "source": [
    "import os\n",
    "\n",
    "log_names = ['irc1']#['03','04','34','39','42','51','56','62']\n",
    "project_dir = '/Users/preneond/Documents/Work/Stratosphere/IRC-Research/IRC-Behavioral-Analysis/' \n",
    "log_dir = os.path.join(project_dir, 'zeek/logs/')\n",
    "out_dir = os.path.join(project_dir, 'python/out/')\n",
    "\n",
    "fileout_join_freq = 'join_freq.log'\n",
    "fileout_lev_dist = 'lev_dist.log'\n",
    "\n",
    "logs_fn_join = [os.path.join(log_dir,l,'irc_join.log') for l in log_names]\n",
    "logs_fn_privmsg = [os.path.join(log_dir,l,'irc_privmsg.log') for l in log_names]"
   ]
  },
  {
   "cell_type": "code",
   "execution_count": 15,
   "metadata": {},
   "outputs": [],
   "source": [
    "def load_logs(file):\n",
    "    logs_arr = []\n",
    "    if not os.path.isfile(file):\n",
    "        return logs_arr\n",
    "    reader = BroLogReader(file)\n",
    "\n",
    "    for log in reader.readrows():\n",
    "        # log is in dictionary format\n",
    "        logs_arr.append(log)\n",
    "\n",
    "    return logs_arr"
   ]
  },
  {
   "cell_type": "code",
   "execution_count": 7,
   "metadata": {},
   "outputs": [
    {
     "name": "stdout",
     "output_type": "stream",
     "text": "Successfully monitoring /Users/preneond/Documents/Work/Stratosphere/IRC-Research/IRC-Behavioral-Analysis/zeek/logs/irc1/irc_join.log...\nSuccessfully monitoring /Users/preneond/Documents/Work/Stratosphere/IRC-Research/IRC-Behavioral-Analysis/zeek/logs/irc1/irc_privmsg.log...\n"
    }
   ],
   "source": [
    "logs_join = list(map(lambda x: load_logs(x),logs_fn_join))\n",
    "# logs_join = list(filter(lambda x: len(x) != 0 ,logs_join))\n",
    "\n",
    "logs_privmsg = list(map(lambda x: load_logs(x),logs_fn_privmsg))\n",
    "# logs_privmsg = list(filter(lambda x: len(x) != 0 ,logs_privmsg))"
   ]
  },
  {
   "cell_type": "markdown",
   "metadata": {},
   "source": [
    "### Divide logs by channels"
   ]
  },
  {
   "cell_type": "code",
   "execution_count": 16,
   "metadata": {},
   "outputs": [],
   "source": [
    "from collections import defaultdict\n",
    "logs_join_divided = []\n",
    "for logs in logs_join:\n",
    "    logs_per_channel = defaultdict(lambda: [])    \n",
    "    for log in logs:\n",
    "        logs_per_channel[log['channel']].append(log)\n",
    "    logs_join_divided.append(logs_per_channel)"
   ]
  },
  {
   "cell_type": "code",
   "execution_count": 17,
   "metadata": {},
   "outputs": [],
   "source": [
    "logs_privmsg_divided = []\n",
    "for logs in logs_privmsg:\n",
    "    logs_per_channel = defaultdict(lambda: [])    \n",
    "    for log in logs:\n",
    "        logs_per_channel[log['target']].append(log)\n",
    "    logs_privmsg_divided.append(logs_per_channel)"
   ]
  },
  {
   "cell_type": "markdown",
   "metadata": {},
   "source": [
    "## Number of Users in Channel per Day"
   ]
  },
  {
   "cell_type": "code",
   "execution_count": 18,
   "metadata": {},
   "outputs": [],
   "source": [
    "import json\n",
    "\n",
    "def ircjoin_compute(logs):\n",
    "    if len(logs) == 0:\n",
    "        return None, None\n",
    "\n",
    "    logs_ts = list(map(lambda x: x['ts'].date(), logs))\n",
    "\n",
    "    # first ts of join command\n",
    "    ts_min = min(logs_ts)\n",
    "    ts_max = max(logs_ts)\n",
    "#     print('min date: {}, max date: {}'.format(ts_min, ts_max))\n",
    "    span = ts_max - ts_min\n",
    "    \n",
    "    dates = [ts_min+timedelta(days=i) for i in range(span.days+1)]\n",
    "\n",
    "    ## count how many join commands are in which day \n",
    "    logs_per_day = defaultdict(lambda: 0)\n",
    "    for v in logs_ts:\n",
    "        logs_per_day[v] += 1\n",
    "    \n",
    "    dates_count = []\n",
    "    count = 0\n",
    "    for d in dates:\n",
    "        count += logs_per_day[d]\n",
    "        dates_count.append(count)\n",
    "    \n",
    "    return dates, dates_count\n",
    "\n",
    "\n",
    "def ircjoin_visualize(dates, dates_count):\n",
    "    plt.bar(dates,dates_count)\n",
    "    plt.show()    \n",
    "    \n",
    "def irc_save2file(data, file_out):\n",
    "    with open(file_out, 'w+') as f:\n",
    "        json.dump(data, f, default=str)"
   ]
  },
  {
   "cell_type": "code",
   "execution_count": 19,
   "metadata": {},
   "outputs": [
    {
     "name": "stdout",
     "output_type": "stream",
     "text": "/Users/preneond/Documents/Work/Stratosphere/IRC-Research/IRC-Behavioral-Analysis/python/out/irc1/join_freq.log\n"
    }
   ],
   "source": [
    "for ln, l in zip(log_names, logs_join_divided):\n",
    "    fn = os.path.join(out_dir, ln, fileout_join_freq)\n",
    "    print(fn)\n",
    "    data = []\n",
    "    for l_k in l.keys():\n",
    "        log = l[l_k]\n",
    "        d, dc = ircjoin_compute(log)\n",
    "        # ircjoin_visualize(d, dc)\n",
    "        if d is None or dc is None:\n",
    "            data.append([])\n",
    "        else:\n",
    "            data.append([l_k, list(zip(d, dc))])\n",
    "    \n",
    "    irc_save2file(data, fn)\n",
    "\n",
    "# import random\n",
    "# log = logs_join[2]\n",
    "# ircjoin_visualize(log)"
   ]
  },
  {
   "cell_type": "markdown",
   "metadata": {},
   "source": [
    "## Levenshtein Distance of Messages in Channel"
   ]
  },
  {
   "cell_type": "code",
   "execution_count": 20,
   "metadata": {},
   "outputs": [],
   "source": [
    "import itertools\n",
    "from Levenshtein import distance as levenshtein_distance\n",
    "\n",
    "def compute_levenshtein_distance(logs_msg):\n",
    "    combs = itertools.combinations(logs_msg, 2)\n",
    "    dist_lev_arr = []\n",
    "    for msg1, msg2 in combs:\n",
    "        dist_lev_arr.append(levenshtein_distance(msg1,msg2))\n",
    "        \n",
    "    return dist_lev_arr"
   ]
  },
  {
   "cell_type": "markdown",
   "metadata": {},
   "source": [
    "### Bubble plot"
   ]
  },
  {
   "cell_type": "code",
   "execution_count": 23,
   "metadata": {},
   "outputs": [
    {
     "name": "stdout",
     "output_type": "stream",
     "text": "channel:  #worldchat\nchannel:  #linux-cs\nchannel:  #red_rulz\nchannel:  203FAD02P\nchannel:  #Kiev\nchannel:  Smetana\nchannel:  #dump\nchannel:  #cz\nchannel:  #idlerpg.hu\nchannel:  #programatori\nchannel:  otis\nchannel:  #adom\nchannel:  #news.cz\nchannel:  #Cybercafe\nchannel:  PR0FF0NEONE\nchannel:  Mik3\nchannel:  X@channels.undernet.org\nchannel:  #styja\nchannel:  kim^\nchannel:  F0xTr0T\nchannel:  #linux.cz\nchannel:  Umana`\nchannel:  #quizer\nchannel:  #atw\nchannel:  #take-over\nchannel:  #NetBSD\nchannel:  #cd1\nchannel:  #zcu\nchannel:  #romania\nchannel:  #OpenBSD\nchannel:  #9x9pub\nchannel:  #WORLDCHAT\nchannel:  #ddos\nchannel:  #kiev\nchannel:  izel\nchannel:  #freebsd\nchannel:  #beginner\nchannel:  #Jakarta\nchannel:  #ATW\nchannel:  #turks\nchannel:  #Beginner\nchannel:  #..\nchannel:  Keso\nchannel:  #amigacs\nchannel:  #sscait\nchannel:  #networker\nchannel:  #dupa_maryny\nchannel:  #kosice\nchannel:  #obsd\nchannel:  #Becka\nchannel:  #u\nchannel:  elisabetta`\nchannel:  #7gods\nchannel:  #Kosice\nchannel:  #dupa\nchannel:  jimy\nchannel:  #cs\nchannel:  #vilo\nchannel:  pasky\nchannel:  #praha12.net\nchannel:  #testerz\nchannel:  #android.pl\nchannel:  #brute\nchannel:  ero\nchannel:  matiabcx\nchannel:  Holly\nchannel:  profor\nchannel:  ^]\nchannel:  #kepra\nchannel:  #bsd.cz\nchannel:  #imperium\nchannel:  #bordel\nchannel:  #cs-opers\nchannel:  #orava\nchannel:  #croatia\nchannel:  #cvut\nchannel:  tuba\nchannel:  `Magika\nchannel:  #openbsd\nchannel:  #pomoc\nchannel:  #love\nchannel:  #brno\nchannel:  Hasser\nchannel:  #Becka,#ave\nchannel:  #slovensko\nchannel:  #czestochowa\nchannel:  #Romania\nchannel:  #funkychat\nchannel:  #z\nchannel:  Zviratko\nchannel:  _K_\nchannel:  yanek\nchannel:  #makedonia\n"
    }
   ],
   "source": [
    "from multiprocessing import Pool\n",
    "\n",
    "n = len(logs_privmsg)\n",
    "\n",
    "def compute_lev_dist_per_channel(l_k):\n",
    "    print('channel: ', l_k)\n",
    "    # compute levenshtein distance\n",
    "    logs_msg = [log['msg'] for log in logs[l_k]]\n",
    "    logs_lev_dist = compute_levenshtein_distance(logs_msg)\n",
    "    # compute number of msg's senders per channel\n",
    "    sources = set([log['source'] for log in logs[l_k]])\n",
    "    # print('sources: ', len(sources))\n",
    "    return [l_k, logs_lev_dist]\n",
    "    \n",
    "for ln, logs in zip(log_names, logs_privmsg_divided):\n",
    "    with Pool() as pool:\n",
    "        fn = os.path.join(out_dir, ln, fileout_lev_dist)\n",
    "        data = []\n",
    "        # loop through channels            \n",
    "        data = pool.map(compute_lev_dist_per_channel,logs.keys())     \n",
    "        irc_save2file(data, fn)\n",
    "        #print('lev_dist: ', logs_lev_dist)"
   ]
  },
  {
   "cell_type": "code",
   "execution_count": null,
   "metadata": {},
   "outputs": [],
   "source": [
    "print('# Sources:\\t{} \\n# Messages:\\t\\t{} \\nLev dist:\\t{}'.format(logs_sources, logs_messages, logs_lev_dist))"
   ]
  },
  {
   "cell_type": "code",
   "execution_count": null,
   "metadata": {},
   "outputs": [],
   "source": [
    "cm = plt.cm.get_cmap('jet')\n",
    "\n",
    "x = np.array(logs_sources)\n",
    "y = np.array(logs_messages)\n",
    "z = 5*np.power(np.array(logs_lev_dist),2)\n",
    "\n",
    "fig, ax = plt.subplots()\n",
    "sc = ax.scatter(x,y,s=z,c=z,cmap=cm)\n",
    "ax.grid(alpha=0.5)\n",
    "fig.colorbar(sc)\n",
    "plt.xlabel('Number of Users in Channel')\n",
    "plt.ylabel('Number of Messages')\n",
    "plt.title('Levenstein Distance of Messages per Capture')\n",
    "plt.show()"
   ]
  },
  {
   "cell_type": "markdown",
   "metadata": {
    "collapsed": true
   },
   "source": [
    "## "
   ]
  }
 ],
 "metadata": {
  "kernelspec": {
   "display_name": "Python 3",
   "language": "python",
   "name": "python3"
  },
  "language_info": {
   "codemirror_mode": {
    "name": "ipython",
    "version": 3
   },
   "file_extension": ".py",
   "mimetype": "text/x-python",
   "name": "python",
   "nbconvert_exporter": "python",
   "pygments_lexer": "ipython3",
   "version": "3.6.10-final"
  }
 },
 "nbformat": 4,
 "nbformat_minor": 4
}