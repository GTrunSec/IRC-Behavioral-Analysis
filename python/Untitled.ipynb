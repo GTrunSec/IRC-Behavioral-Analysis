{
 "cells": [
  {
   "cell_type": "markdown",
   "metadata": {},
   "source": [
    "# IRC Behavioral Analysis"
   ]
  },
  {
   "cell_type": "markdown",
   "metadata": {},
   "source": [
    "### Imports"
   ]
  },
  {
   "cell_type": "code",
   "execution_count": 40,
   "metadata": {
    "collapsed": false
   },
   "outputs": [],
   "source": [
    "import zat\n",
    "import pandas as pd\n",
    "import numpy as np\n",
    "import matplotlib.pyplot as plt\n",
    "from datetime import datetime, timedelta\n",
    "from zat.log_to_dataframe import LogToDataFrame\n",
    "from zat.bro_log_reader import BroLogReader\n",
    "from collections import defaultdict\n",
    "import numba"
   ]
  },
  {
   "cell_type": "markdown",
   "metadata": {},
   "source": [
    "## Loading Data"
   ]
  },
  {
   "cell_type": "code",
   "execution_count": 41,
   "metadata": {
    "collapsed": true
   },
   "outputs": [],
   "source": [
    "import os\n",
    "\n",
    "logs = ['03','04','34','39','42','51','56','62','irc1']\n",
    "# log_dir = '/Users/preneond/Documents/Work/Stratosphere/IRC-research/IRC-Behavioral-Analysis/zeek/logs/'\n",
    "log_dir = '/home/ondrap/IRC-Behavioral-Analysis/zeek/logs/'\n",
    "\n",
    "logs_fn_join = [os.path.join(log_dir,l,'irc_join.log') for l in logs]\n",
    "logs_fn_privmsg = [os.path.join(log_dir,l,'irc_privmsg.log') for l in logs]"
   ]
  },
  {
   "cell_type": "code",
   "execution_count": 42,
   "metadata": {
    "collapsed": false
   },
   "outputs": [],
   "source": [
    "def load_logs(file):\n",
    "    logs_arr = []\n",
    "    if not os.path.isfile(file):\n",
    "        return logs_arr\n",
    "    reader = BroLogReader(file)\n",
    "\n",
    "    for log in reader.readrows():\n",
    "        # log is in dictionary format\n",
    "        logs_arr.append(log)\n",
    "\n",
    "    return logs_arr"
   ]
  },
  {
   "cell_type": "code",
   "execution_count": 43,
   "metadata": {
    "collapsed": false
   },
   "outputs": [
    {
     "name": "stdout",
     "output_type": "stream",
     "text": [
      "Successfully monitoring /home/ondrap/IRC-Behavioral-Analysis/zeek/logs/04/irc_join.log...\n",
      "Successfully monitoring /home/ondrap/IRC-Behavioral-Analysis/zeek/logs/34/irc_join.log...\n",
      "Successfully monitoring /home/ondrap/IRC-Behavioral-Analysis/zeek/logs/39/irc_join.log...\n",
      "Successfully monitoring /home/ondrap/IRC-Behavioral-Analysis/zeek/logs/42/irc_join.log...\n",
      "Successfully monitoring /home/ondrap/IRC-Behavioral-Analysis/zeek/logs/51/irc_join.log...\n",
      "Successfully monitoring /home/ondrap/IRC-Behavioral-Analysis/zeek/logs/56/irc_join.log...\n",
      "Successfully monitoring /home/ondrap/IRC-Behavioral-Analysis/zeek/logs/62/irc_join.log...\n",
      "Successfully monitoring /home/ondrap/IRC-Behavioral-Analysis/zeek/logs/irc1/irc_join.log...\n",
      "Successfully monitoring /home/ondrap/IRC-Behavioral-Analysis/zeek/logs/34/irc_privmsg.log...\n",
      "Successfully monitoring /home/ondrap/IRC-Behavioral-Analysis/zeek/logs/42/irc_privmsg.log...\n",
      "Successfully monitoring /home/ondrap/IRC-Behavioral-Analysis/zeek/logs/51/irc_privmsg.log...\n",
      "Successfully monitoring /home/ondrap/IRC-Behavioral-Analysis/zeek/logs/56/irc_privmsg.log...\n",
      "Successfully monitoring /home/ondrap/IRC-Behavioral-Analysis/zeek/logs/62/irc_privmsg.log...\n",
      "Successfully monitoring /home/ondrap/IRC-Behavioral-Analysis/zeek/logs/irc1/irc_privmsg.log...\n"
     ]
    }
   ],
   "source": [
    "logs_join = list(map(lambda x: load_logs(x),logs_fn_join))\n",
    "logs_join = list(filter(lambda x: len(x) != 0 ,logs_join))\n",
    "\n",
    "logs_privmsg = list(map(lambda x: load_logs(x),logs_fn_privmsg))\n",
    "logs_privmsg = list(filter(lambda x: len(x) != 0 ,logs_privmsg))"
   ]
  },
  {
   "cell_type": "markdown",
   "metadata": {},
   "source": [
    "## Number of Users in Channel per Day"
   ]
  },
  {
   "cell_type": "code",
   "execution_count": 44,
   "metadata": {
    "collapsed": false
   },
   "outputs": [],
   "source": [
    "def ircjoin_visualize(logs):\n",
    "    logs_ts = list(map(lambda x: x['ts'].date(), logs))\n",
    "\n",
    "    # first ts of join command\n",
    "    ts_min = min(logs_ts)\n",
    "    ts_max = max(logs_ts)\n",
    "    print('min date: {}, max date: {}'.format(ts_min, ts_max))\n",
    "    span = ts_max - ts_min\n",
    "    \n",
    "    dates = [ts_min+timedelta(days=i) for i in range(span.days+1)]\n",
    "\n",
    "    ## count how many join commands are in which day \n",
    "    logs_per_day = defaultdict(lambda: 0)\n",
    "    for v in logs_ts:\n",
    "        logs_per_day[v] += 1\n",
    "    \n",
    "    dates_count = []\n",
    "    count = 0\n",
    "    for d in dates:\n",
    "        count += logs_per_day[d]\n",
    "        dates_count.append(count)\n",
    "    \n",
    "\n",
    "    plt.bar(dates,dates_count)\n",
    "    plt.show()"
   ]
  },
  {
   "cell_type": "code",
   "execution_count": 45,
   "metadata": {
    "collapsed": false
   },
   "outputs": [
    {
     "name": "stdout",
     "output_type": "stream",
     "text": [
      "min date: 2019-01-09, max date: 2019-01-14\n"
     ]
    },
    {
     "data": {
      "image/png": "[encoded data removed]",
      "text/plain": [
       "<Figure size 432x288 with 1 Axes>"
      ]
     },
     "metadata": {
      "needs_background": "light"
     },
     "output_type": "display_data"
    }
   ],
   "source": [
    "# import random\n",
    "log = logs_join[2]\n",
    "ircjoin_visualize(log)"
   ]
  },
  {
   "cell_type": "markdown",
   "metadata": {},
   "source": [
    "## Levenshtein Distance of Messages in Channel"
   ]
  },
  {
   "cell_type": "code",
   "execution_count": 46,
   "metadata": {
    "collapsed": false
   },
   "outputs": [],
   "source": [
    "import itertools\n",
    "from Levenshtein import distance as levenshtein_distance\n",
    "\n",
    "def compute_levenshtein_distance(logs_msg):\n",
    "    combs = itertools.combinations(logs_msg,2)\n",
    "    dist_lev_arr = []\n",
    "    for msg1, msg2 in combs:\n",
    "        dist_lev_arr.append(levenshtein_distance(msg1,msg2))\n",
    "        \n",
    "    return np.nan_to_num(np.mean(dist_lev_arr))"
   ]
  },
  {
   "cell_type": "markdown",
   "metadata": {},
   "source": [
    "### Bubble plot\n",
    "\n"
   ]
  },
  {
   "cell_type": "code",
   "execution_count": null,
   "metadata": {
    "collapsed": false
   },
   "outputs": [
    {
     "name": "stdout",
     "output_type": "stream",
     "text": [
      "lev_dist:  46.57957790192427\n",
      "sources:  6\n",
      "messages:  180\n",
      "lev_dist:  0.0\n",
      "sources:  1\n",
      "messages:  1\n",
      "lev_dist:  29.403408881291735\n",
      "sources:  4\n",
      "messages:  699\n",
      "lev_dist:  14.299157070345938\n",
      "sources:  9\n",
      "messages:  2022\n",
      "lev_dist:  27.437229437229437\n",
      "sources:  4\n",
      "messages:  22\n"
     ]
    }
   ],
   "source": [
    "n = len(logs_privmsg)\n",
    "\n",
    "\n",
    "logs_sources = np.zeros(n)\n",
    "logs_messages = np.zeros(n)\n",
    "logs_lev_dist = np.zeros(n)\n",
    "for i, logs in enumerate(logs_privmsg):\n",
    "    # compute levenshtein distance\n",
    "    logs_msg = [x['msg'] for x in logs]\n",
    "    logs_lev_dist[i] = compute_levenshtein_distance(logs_msg)\n",
    "    print('lev_dist: ', logs_lev_dist[i])\n",
    "\n",
    "    # # compute number of days per each malware\n",
    "    # logs_ts = list(map(lambda x: x['ts'].date(), logs))\n",
    "    # span = max(logs_ts) - min(logs_ts)\n",
    "    # logs_days.append(span.days+1)\n",
    "    # print('days: ', span.days+1)\n",
    "    \n",
    "    # compute number of msg's senders per channel\n",
    "    sources = set()\n",
    "    for log in logs:\n",
    "        sources.add(log['source'])\n",
    "    \n",
    "    print('sources: ', len(sources))\n",
    "    logs_sources[i] = len(sources)\n",
    "    \n",
    "    # compute number of msgs per channel\n",
    "    logs_messages[i] = len(logs)\n",
    "    print('messages: ', len(logs))"
   ]
  },
  {
   "cell_type": "code",
   "execution_count": null,
   "metadata": {
    "collapsed": false
   },
   "outputs": [],
   "source": [
    "print('# Sources:\\t{} \\n# Messages:\\t\\t{} \\nLev dist:\\t{}'.format(logs_sources, logs_messages, logs_lev_dist))"
   ]
  },
  {
   "cell_type": "code",
   "execution_count": null,
   "metadata": {
    "collapsed": false
   },
   "outputs": [],
   "source": [
    "cm = plt.cm.get_cmap('jet')\n",
    "\n",
    "x = np.array(logs_sources)\n",
    "y = np.array(logs_messages)\n",
    "z = 5*np.power(np.array(logs_lev_dist),2)\n",
    "\n",
    "fig, ax = plt.subplots()\n",
    "sc = ax.scatter(x,y,s=z,c=z,cmap=cm)\n",
    "ax.grid(alpha=0.5)\n",
    "fig.colorbar(sc)\n",
    "plt.xlabel('Number of Users in Channel')\n",
    "plt.ylabel('Number of Messages')\n",
    "plt.title('Levenstein Distance of Messages per Capture')\n",
    "plt.show()"
   ]
  },
  {
   "cell_type": "markdown",
   "metadata": {
    "collapsed": true
   },
   "source": [
    "## "
   ]
  }
 ],
 "metadata": {
  "kernelspec": {
   "display_name": "Python 3",
   "language": "python",
   "name": "python3"
  },
  "language_info": {
   "codemirror_mode": {
    "name": "ipython",
    "version": 3
   },
   "file_extension": ".py",
   "mimetype": "text/x-python",
   "name": "python",
   "nbconvert_exporter": "python",
   "pygments_lexer": "ipython3",
   "version": "3.7.6"
  }
 },
 "nbformat": 4,
 "nbformat_minor": 4
}
