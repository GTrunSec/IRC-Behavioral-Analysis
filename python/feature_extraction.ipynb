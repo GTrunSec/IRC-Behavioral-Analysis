{
 "cells": [
  {
   "cell_type": "markdown",
   "metadata": {},
   "source": [
    "# IRC Behavioral Analysis"
   ]
  },
  {
   "cell_type": "markdown",
   "metadata": {},
   "source": [
    "### Imports"
   ]
  },
  {
   "cell_type": "code",
   "execution_count": 1,
   "metadata": {},
   "outputs": [],
   "source": [
    "import zat\n",
    "import pandas as pd\n",
    "import numpy as np\n",
    "import matplotlib.pyplot as plt\n",
    "from datetime import datetime, timedelta\n",
    "from zat.log_to_dataframe import LogToDataFrame\n",
    "from zat.bro_log_reader import BroLogReader\n",
    "from collections import defaultdict"
   ]
  },
  {
   "cell_type": "markdown",
   "metadata": {},
   "source": [
    "## Loading Data"
   ]
  },
  {
   "cell_type": "code",
   "execution_count": 73,
   "metadata": {},
   "outputs": [],
   "source": [
    "import os\n",
    "\n",
    "log_names_mal = ['03','04','34','39','42','51','56','62']\n",
    "log_names_benign = ['irc1']\n",
    "log_names = log_names_mal + log_names_benign\n",
    "\n",
    "# project_dir = '/Users/preneond/Documents/Work/Stratosphere/IRC-Research/IRC-Behavioral-Analysis/'\n",
    "project_dir = '/home/prenek/IRC-Behavioral-Analysis/'\n",
    "log_dir = os.path.join(project_dir, 'zeek/logs/')\n",
    "out_dir = os.path.join(project_dir, 'python/out/')\n",
    "\n",
    "fileout_join_freq = 'join_freq.log'\n",
    "fileout_lev_dist = 'lev_dist.log'\n",
    "\n",
    "logs_fn_join = [os.path.join(log_dir,l,'irc_join.log') for l in log_names]\n",
    "logs_fn_join_mal = [os.path.join(log_dir,l,'irc_join.log') for l in log_names_mal]\n",
    "logs_fn_join_benign = [os.path.join(log_dir,l,'irc_join.log') for l in log_names_mal]\n",
    "\n",
    "logs_fn_privmsg = [os.path.join(log_dir,l,'irc_privmsg.log') for l in log_names]\n",
    "logs_fn_privmsg_mal = [os.path.join(log_dir,l,'irc_privmsg.log') for l in log_names_mal]\n",
    "logs_fn_privmsg_benign = [os.path.join(log_dir,l,'irc_privmsg.log') for l in log_names_benign]"
   ]
  },
  {
   "cell_type": "code",
   "execution_count": 47,
   "metadata": {},
   "outputs": [],
   "source": [
    "def load_logs(file):\n",
    "    logs_arr = []\n",
    "    if not os.path.isfile(file):\n",
    "        return logs_arr\n",
    "    \n",
    "    reader = BroLogReader(file)\n",
    "    for log in reader.readrows():\n",
    "        # log is in dictionary format\n",
    "        logs_arr.append(log)\n",
    "\n",
    "    return logs_arr"
   ]
  },
  {
   "cell_type": "code",
   "execution_count": 64,
   "metadata": {},
   "outputs": [
    {
     "name": "stdout",
     "output_type": "stream",
     "text": "Successfully monitoring /Users/preneond/Documents/Work/Stratosphere/IRC-Research/IRC-Behavioral-Analysis/zeek/logs/04/irc_join.log...\nSuccessfully monitoring /Users/preneond/Documents/Work/Stratosphere/IRC-Research/IRC-Behavioral-Analysis/zeek/logs/34/irc_join.log...\nSuccessfully monitoring /Users/preneond/Documents/Work/Stratosphere/IRC-Research/IRC-Behavioral-Analysis/zeek/logs/39/irc_join.log...\nSuccessfully monitoring /Users/preneond/Documents/Work/Stratosphere/IRC-Research/IRC-Behavioral-Analysis/zeek/logs/42/irc_join.log...\nSuccessfully monitoring /Users/preneond/Documents/Work/Stratosphere/IRC-Research/IRC-Behavioral-Analysis/zeek/logs/51/irc_join.log...\nSuccessfully monitoring /Users/preneond/Documents/Work/Stratosphere/IRC-Research/IRC-Behavioral-Analysis/zeek/logs/56/irc_join.log...\nSuccessfully monitoring /Users/preneond/Documents/Work/Stratosphere/IRC-Research/IRC-Behavioral-Analysis/zeek/logs/62/irc_join.log...\nSuccessfully monitoring /Users/preneond/Documents/Work/Stratosphere/IRC-Research/IRC-Behavioral-Analysis/zeek/logs/irc1/irc_join.log...\nSuccessfully monitoring /Users/preneond/Documents/Work/Stratosphere/IRC-Research/IRC-Behavioral-Analysis/zeek/logs/04/irc_join.log...\nSuccessfully monitoring /Users/preneond/Documents/Work/Stratosphere/IRC-Research/IRC-Behavioral-Analysis/zeek/logs/34/irc_join.log...\nSuccessfully monitoring /Users/preneond/Documents/Work/Stratosphere/IRC-Research/IRC-Behavioral-Analysis/zeek/logs/39/irc_join.log...\nSuccessfully monitoring /Users/preneond/Documents/Work/Stratosphere/IRC-Research/IRC-Behavioral-Analysis/zeek/logs/42/irc_join.log...\nSuccessfully monitoring /Users/preneond/Documents/Work/Stratosphere/IRC-Research/IRC-Behavioral-Analysis/zeek/logs/51/irc_join.log...\nSuccessfully monitoring /Users/preneond/Documents/Work/Stratosphere/IRC-Research/IRC-Behavioral-Analysis/zeek/logs/56/irc_join.log...\nSuccessfully monitoring /Users/preneond/Documents/Work/Stratosphere/IRC-Research/IRC-Behavioral-Analysis/zeek/logs/62/irc_join.log...\nSuccessfully monitoring /Users/preneond/Documents/Work/Stratosphere/IRC-Research/IRC-Behavioral-Analysis/zeek/logs/irc1/irc_join.log...\nSuccessfully monitoring /Users/preneond/Documents/Work/Stratosphere/IRC-Research/IRC-Behavioral-Analysis/zeek/logs/34/irc_privmsg.log...\nSuccessfully monitoring /Users/preneond/Documents/Work/Stratosphere/IRC-Research/IRC-Behavioral-Analysis/zeek/logs/42/irc_privmsg.log...\nSuccessfully monitoring /Users/preneond/Documents/Work/Stratosphere/IRC-Research/IRC-Behavioral-Analysis/zeek/logs/51/irc_privmsg.log...\nSuccessfully monitoring /Users/preneond/Documents/Work/Stratosphere/IRC-Research/IRC-Behavioral-Analysis/zeek/logs/56/irc_privmsg.log...\nSuccessfully monitoring /Users/preneond/Documents/Work/Stratosphere/IRC-Research/IRC-Behavioral-Analysis/zeek/logs/62/irc_privmsg.log...\nSuccessfully monitoring /Users/preneond/Documents/Work/Stratosphere/IRC-Research/IRC-Behavioral-Analysis/zeek/logs/34/irc_privmsg.log...\nSuccessfully monitoring /Users/preneond/Documents/Work/Stratosphere/IRC-Research/IRC-Behavioral-Analysis/zeek/logs/42/irc_privmsg.log...\nSuccessfully monitoring /Users/preneond/Documents/Work/Stratosphere/IRC-Research/IRC-Behavioral-Analysis/zeek/logs/51/irc_privmsg.log...\nSuccessfully monitoring /Users/preneond/Documents/Work/Stratosphere/IRC-Research/IRC-Behavioral-Analysis/zeek/logs/56/irc_privmsg.log...\nSuccessfully monitoring /Users/preneond/Documents/Work/Stratosphere/IRC-Research/IRC-Behavioral-Analysis/zeek/logs/62/irc_privmsg.log...\n"
    }
   ],
   "source": [
    "logs_join_mal = list(map(lambda x: load_logs(x),logs_fn_join))\n",
    "logs_join_benign = list(map(lambda x: load_logs(x),logs_fn_join))\n",
    "logs_join = logs_join_mal + logs_join_benign\n",
    "\n",
    "\n",
    "logs_privmsg_mal = list(map(lambda x: load_logs(x),logs_fn_privmsg_mal))\n",
    "logs_privmsg_mal = [list(filter(lambda x: x['target'].startswith('#'), log)) for log in logs_privmsg_mal]\n",
    "\n",
    "logs_privmsg_benign = list(map(lambda x: load_logs(x), logs_fn_privmsg_benign))\n",
    "logs_privmsg_benign = [list(filter(lambda x: x['target'].startswith('#'), log)) for log in logs_privmsg_benign]\n",
    "logs_privmsg = logs_privmsg_mal + logs_privmsg_benign"
   ]
  },
  {
   "cell_type": "markdown",
   "metadata": {},
   "source": [
    "### Divide logs by channels"
   ]
  },
  {
   "cell_type": "code",
   "execution_count": 65,
   "metadata": {},
   "outputs": [],
   "source": [
    "from collections import defaultdict\n",
    "logs_join_divided = []\n",
    "for logs in logs_join:\n",
    "    logs_per_channel = defaultdict(lambda: [])    \n",
    "    for log in logs:\n",
    "        logs_per_channel[log['channel']].append(log)\n",
    "    logs_join_divided.append(logs_per_channel)"
   ]
  },
  {
   "cell_type": "code",
   "execution_count": 66,
   "metadata": {},
   "outputs": [],
   "source": [
    "logs_privmsg_divided = []\n",
    "for logs in logs_privmsg_benign:\n",
    "    logs_per_channel = defaultdict(lambda: [])    \n",
    "    for log in logs:\n",
    "        logs_per_channel[log['target']].append(log)\n",
    "    logs_privmsg_divided.append(logs_per_channel)"
   ]
  },
  {
   "cell_type": "markdown",
   "metadata": {},
   "source": [
    "## Number of Users in Channel per Day"
   ]
  },
  {
   "cell_type": "code",
   "execution_count": 67,
   "metadata": {},
   "outputs": [],
   "source": [
    "import json\n",
    "\n",
    "def ircjoin_compute(logs):\n",
    "    if len(logs) == 0:\n",
    "        return None, None\n",
    "\n",
    "    logs_ts = list(map(lambda x: x['ts'].date(), logs))\n",
    "\n",
    "    # first ts of join command\n",
    "    ts_min = min(logs_ts)\n",
    "    ts_max = max(logs_ts)\n",
    "#     print('min date: {}, max date: {}'.format(ts_min, ts_max))\n",
    "    span = ts_max - ts_min\n",
    "    \n",
    "    dates = [ts_min+timedelta(days=i) for i in range(span.days+1)]\n",
    "\n",
    "    ## count how many join commands are in which day \n",
    "    logs_per_day = defaultdict(lambda: 0)\n",
    "    for v in logs_ts:\n",
    "        logs_per_day[v] += 1\n",
    "    \n",
    "    dates_count = []\n",
    "    count = 0\n",
    "    for d in dates:\n",
    "        count += logs_per_day[d]\n",
    "        dates_count.append(count)\n",
    "    \n",
    "    return dates, dates_count\n",
    "\n",
    "\n",
    "def ircjoin_visualize(dates, dates_count):\n",
    "    plt.bar(dates,dates_count)\n",
    "    plt.show()"
   ]
  },
  {
   "cell_type": "code",
   "execution_count": 68,
   "metadata": {},
   "outputs": [
    {
     "name": "stdout",
     "output_type": "stream",
     "text": "/Users/preneond/Documents/Work/Stratosphere/IRC-Research/IRC-Behavioral-Analysis/python/out/03/join_freq.log\n/Users/preneond/Documents/Work/Stratosphere/IRC-Research/IRC-Behavioral-Analysis/python/out/04/join_freq.log\n/Users/preneond/Documents/Work/Stratosphere/IRC-Research/IRC-Behavioral-Analysis/python/out/34/join_freq.log\n/Users/preneond/Documents/Work/Stratosphere/IRC-Research/IRC-Behavioral-Analysis/python/out/39/join_freq.log\n/Users/preneond/Documents/Work/Stratosphere/IRC-Research/IRC-Behavioral-Analysis/python/out/42/join_freq.log\n/Users/preneond/Documents/Work/Stratosphere/IRC-Research/IRC-Behavioral-Analysis/python/out/51/join_freq.log\n/Users/preneond/Documents/Work/Stratosphere/IRC-Research/IRC-Behavioral-Analysis/python/out/56/join_freq.log\n/Users/preneond/Documents/Work/Stratosphere/IRC-Research/IRC-Behavioral-Analysis/python/out/62/join_freq.log\n/Users/preneond/Documents/Work/Stratosphere/IRC-Research/IRC-Behavioral-Analysis/python/out/irc1/join_freq.log\n"
    }
   ],
   "source": [
    "\n",
    "print('ircjoin...')\n",
    "for ln, l in zip(log_names, logs_join_divided):\n",
    "   fn = os.path.join(out_dir, ln, fileout_join_freq)\n",
    "   df_join = pd.DataFrame(columns=['channel','date','users_count'])\n",
    "   \n",
    "   for l_k in l.keys():\n",
    "       log = l[l_k]\n",
    "       d_arr, dc_arr = ircjoin_compute(log)\n",
    "       # ircjoin_visualize(d, dc)\n",
    "       for d, dc in zip(d_arr,dc_arr):\n",
    "           df_join = df_join.append({'channel': l_k, 'date': d, 'users_count': dc}, ignore_index=True)\n",
    "   \n",
    "   print(fn)\n",
    "   df_join.to_csv(fn, sep=';', encoding='utf-8')"
   ]
  },
  {
   "cell_type": "markdown",
   "metadata": {},
   "source": [
    "## Levenshtein Distance of Messages in Channel"
   ]
  },
  {
   "cell_type": "code",
   "execution_count": 69,
   "metadata": {},
   "outputs": [],
   "source": [
    "import itertools\n",
    "from Levenshtein import distance as levenshtein_distance\n",
    "\n",
    "def compute_levenshtein_distance(logs_msg):\n",
    "    combs = itertools.combinations(logs_msg, 2)\n",
    "    dist_lev_arr = []\n",
    "    for msg1, msg2 in combs:\n",
    "        dist_lev_arr.append(levenshtein_distance(msg1,msg2))\n",
    "        \n",
    "    return dist_lev_arr"
   ]
  },
  {
   "cell_type": "markdown",
   "metadata": {},
   "source": [
    "### Bubble plot"
   ]
  },
  {
   "cell_type": "code",
   "execution_count": 70,
   "metadata": {},
   "outputs": [
    {
     "name": "stdout",
     "output_type": "stream",
     "text": "channel:  ##Summit\nchannel:  #Runz\nchannel:  #007\nchannel:  #kz\nchannel:  #all\nchannel:  #x\nchannel:  #root\nchannel:  #o\n"
    }
   ],
   "source": [
    "from multiprocessing import Pool\n",
    "\n",
    "n = len(logs_privmsg_divided)\n",
    "\n",
    "print('ircprivmsg..')\n",
    "\n",
    "def compute_lev_dist_per_channel(fn, l_k):\n",
    "    print('channel: ', l_k)\n",
    "    # compute levenshtein distance\n",
    "    logs_msg = [log['msg'] for log in logs_div[l_k]]\n",
    "    logs_lev_dist = compute_levenshtein_distance(logs_msg)\n",
    "    # compute number of msg's senders per channel\n",
    "    sources = set([log['source'] for log in logs_div[l_k]])\n",
    "    print('sources: ', len(sources))\n",
    "\n",
    "    df = pd.DataFrame([{'channel': l_k, 'num_sources': len(sources), 'lev_dist': logs_lev_dist}])\n",
    "    \n",
    "\n",
    "    if not os.path.isfile(fn):\n",
    "        print('creating csv file....')\n",
    "        df.to_csv(fn, header='column_names')\n",
    "    else:\n",
    "        print('csv file exists.')\n",
    "        df.to_csv(fn, mode='a', header=False)\n",
    "\n",
    "    return df\n",
    "\n",
    "\n",
    "for ln, logs_div in zip(log_names_benign, logs_privmsg_divided):\n",
    "    with Pool() as pool:\n",
    "        fn = os.path.join(out_dir, ln, fileout_lev_dist)\n",
    "        # loop through channels            \n",
    "        data = pool.starmap(compute_lev_dist_per_channel, itertools.product([fn], logs_div.keys()))     "
   ]
  }
 ],
 "metadata": {
  "kernelspec": {
   "display_name": "Python 3",
   "language": "python",
   "name": "python3"
  },
  "language_info": {
   "codemirror_mode": {
    "name": "ipython",
    "version": 3
   },
   "file_extension": ".py",
   "mimetype": "text/x-python",
   "name": "python",
   "nbconvert_exporter": "python",
   "pygments_lexer": "ipython3",
   "version": "3.6.10-final"
  }
 },
 "nbformat": 4,
 "nbformat_minor": 4
}