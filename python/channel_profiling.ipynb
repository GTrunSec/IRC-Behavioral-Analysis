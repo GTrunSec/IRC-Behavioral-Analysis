{
 "cells": [
  {
   "cell_type": "markdown",
   "metadata": {},
   "source": [
    "# IRC Behavioral Analysis"
   ]
  },
  {
   "cell_type": "markdown",
   "metadata": {},
   "source": [
    "### Imports"
   ]
  },
  {
   "cell_type": "code",
   "execution_count": 3,
   "metadata": {},
   "outputs": [],
   "source": [
    "import zat\n",
    "import pandas as pd\n",
    "import numpy as np\n",
    "import matplotlib.pyplot as plt\n",
    "from datetime import datetime, timedelta\n",
    "from zat.log_to_dataframe import LogToDataFrame\n",
    "from zat.bro_log_reader import BroLogReader\n",
    "from collections import defaultdict\n",
    "from textblob import TextBlob\n",
    "import pycountry\n",
    "from collections import defaultdict\n",
    "from itertools import chain\n",
    "import re\n",
    "import itertools\n",
    "from Levenshtein import distance as levenshtein_distance\n",
    "from multiprocessing import Pool"
   ]
  },
  {
   "cell_type": "markdown",
   "metadata": {},
   "source": [
    "## Loading Data"
   ]
  },
  {
   "cell_type": "code",
   "execution_count": 4,
   "metadata": {},
   "outputs": [],
   "source": [
    "import os\n",
    "\n",
    "log_names_mal = ['03','04','34','39','42','51','56','62']\n",
    "log_names_benign = ['irc1']\n",
    "log_names = log_names_mal + log_names_benign\n",
    "\n",
    "project_dir = '/Users/preneond/Documents/Work/Stratosphere/IRC-Research/IRC-Behavioral-Analysis/'\n",
    "# project_dir = '/home/prenek/IRC-Behavioral-Analysis/'\n",
    "log_dir = os.path.join(project_dir, 'zeek/logs/')\n",
    "out_dir = os.path.join(project_dir, 'python/out/')\n",
    "\n",
    "fileout_join_freq = 'join_freq.log'\n",
    "fileout_lev_dist = 'lev_dist.log'\n",
    "\n",
    "logs_fn_join = [os.path.join(log_dir,l,'irc_join.log') for l in log_names]\n",
    "logs_fn_join_mal = [os.path.join(log_dir,l,'irc_join.log') for l in log_names_mal]\n",
    "logs_fn_join_benign = [os.path.join(log_dir,l,'irc_join.log') for l in log_names_mal]\n",
    "\n",
    "logs_fn_privmsg = [os.path.join(log_dir,l,'irc_privmsg.log') for l in log_names]\n",
    "logs_fn_privmsg_mal = [os.path.join(log_dir,l,'irc_privmsg.log') for l in log_names_mal]\n",
    "logs_fn_privmsg_benign = [os.path.join(log_dir,l,'irc_privmsg.log') for l in log_names_benign]\n",
    "\n",
    "logs_fn_channelinfo = [os.path.join(log_dir,l,'irc_channelinfo.log') for l in log_names]\n",
    "logs_fn_channelinfo_mal = [os.path.join(log_dir,l,'irc_channelinfo.log') for l in log_names_mal]\n",
    "logs_fn_channelinfo_benign = [os.path.join(log_dir,l,'irc_channelinfo.log') for l in log_names_benign]\n",
    "\n",
    "logs_fn_networkinfo = [os.path.join(log_dir,l,'irc_networkinfo.log') for l in log_names]\n",
    "logs_fn_networkinfo_mal = [os.path.join(log_dir,l,'irc_networkinfo.log') for l in log_names_mal]\n",
    "logs_fn_networkinfo_benign = [os.path.join(log_dir,l,'irc_networkinfo.log') for l in log_names_benign]"
   ]
  },
  {
   "cell_type": "code",
   "execution_count": 5,
   "metadata": {},
   "outputs": [],
   "source": [
    "def load_logs(file):\n",
    "    logs_arr = []\n",
    "    if not os.path.isfile(file):\n",
    "        return logs_arr\n",
    "    \n",
    "    reader = BroLogReader(file)\n",
    "    for log in reader.readrows():\n",
    "        # log is in dictionary format\n",
    "        logs_arr.append(log)\n",
    "\n",
    "    return logs_arr"
   ]
  },
  {
   "cell_type": "code",
   "execution_count": 6,
   "metadata": {},
   "outputs": [
    {
     "name": "stdout",
     "output_type": "stream",
     "text": [
      "Successfully monitoring /Users/preneond/Documents/Work/Stratosphere/IRC-Research/IRC-Behavioral-Analysis/zeek/logs/04/irc_join.log...\n",
      "Successfully monitoring /Users/preneond/Documents/Work/Stratosphere/IRC-Research/IRC-Behavioral-Analysis/zeek/logs/34/irc_join.log...\n",
      "Successfully monitoring /Users/preneond/Documents/Work/Stratosphere/IRC-Research/IRC-Behavioral-Analysis/zeek/logs/39/irc_join.log...\n",
      "Successfully monitoring /Users/preneond/Documents/Work/Stratosphere/IRC-Research/IRC-Behavioral-Analysis/zeek/logs/42/irc_join.log...\n",
      "Successfully monitoring /Users/preneond/Documents/Work/Stratosphere/IRC-Research/IRC-Behavioral-Analysis/zeek/logs/51/irc_join.log...\n",
      "Successfully monitoring /Users/preneond/Documents/Work/Stratosphere/IRC-Research/IRC-Behavioral-Analysis/zeek/logs/56/irc_join.log...\n",
      "Successfully monitoring /Users/preneond/Documents/Work/Stratosphere/IRC-Research/IRC-Behavioral-Analysis/zeek/logs/62/irc_join.log...\n",
      "Successfully monitoring /Users/preneond/Documents/Work/Stratosphere/IRC-Research/IRC-Behavioral-Analysis/zeek/logs/irc1/irc_join.log...\n",
      "Successfully monitoring /Users/preneond/Documents/Work/Stratosphere/IRC-Research/IRC-Behavioral-Analysis/zeek/logs/04/irc_join.log...\n",
      "Successfully monitoring /Users/preneond/Documents/Work/Stratosphere/IRC-Research/IRC-Behavioral-Analysis/zeek/logs/34/irc_join.log...\n",
      "Successfully monitoring /Users/preneond/Documents/Work/Stratosphere/IRC-Research/IRC-Behavioral-Analysis/zeek/logs/39/irc_join.log...\n",
      "Successfully monitoring /Users/preneond/Documents/Work/Stratosphere/IRC-Research/IRC-Behavioral-Analysis/zeek/logs/42/irc_join.log...\n",
      "Successfully monitoring /Users/preneond/Documents/Work/Stratosphere/IRC-Research/IRC-Behavioral-Analysis/zeek/logs/51/irc_join.log...\n",
      "Successfully monitoring /Users/preneond/Documents/Work/Stratosphere/IRC-Research/IRC-Behavioral-Analysis/zeek/logs/56/irc_join.log...\n",
      "Successfully monitoring /Users/preneond/Documents/Work/Stratosphere/IRC-Research/IRC-Behavioral-Analysis/zeek/logs/62/irc_join.log...\n",
      "Successfully monitoring /Users/preneond/Documents/Work/Stratosphere/IRC-Research/IRC-Behavioral-Analysis/zeek/logs/irc1/irc_join.log...\n",
      "Successfully monitoring /Users/preneond/Documents/Work/Stratosphere/IRC-Research/IRC-Behavioral-Analysis/zeek/logs/34/irc_privmsg.log...\n",
      "Successfully monitoring /Users/preneond/Documents/Work/Stratosphere/IRC-Research/IRC-Behavioral-Analysis/zeek/logs/42/irc_privmsg.log...\n",
      "Successfully monitoring /Users/preneond/Documents/Work/Stratosphere/IRC-Research/IRC-Behavioral-Analysis/zeek/logs/51/irc_privmsg.log...\n",
      "Successfully monitoring /Users/preneond/Documents/Work/Stratosphere/IRC-Research/IRC-Behavioral-Analysis/zeek/logs/56/irc_privmsg.log...\n",
      "Successfully monitoring /Users/preneond/Documents/Work/Stratosphere/IRC-Research/IRC-Behavioral-Analysis/zeek/logs/62/irc_privmsg.log...\n",
      "Successfully monitoring /Users/preneond/Documents/Work/Stratosphere/IRC-Research/IRC-Behavioral-Analysis/zeek/logs/irc1/irc_privmsg.log...\n",
      "Successfully monitoring /Users/preneond/Documents/Work/Stratosphere/IRC-Research/IRC-Behavioral-Analysis/zeek/logs/34/irc_channelinfo.log...\n",
      "Successfully monitoring /Users/preneond/Documents/Work/Stratosphere/IRC-Research/IRC-Behavioral-Analysis/zeek/logs/39/irc_channelinfo.log...\n",
      "Successfully monitoring /Users/preneond/Documents/Work/Stratosphere/IRC-Research/IRC-Behavioral-Analysis/zeek/logs/42/irc_channelinfo.log...\n",
      "Successfully monitoring /Users/preneond/Documents/Work/Stratosphere/IRC-Research/IRC-Behavioral-Analysis/zeek/logs/51/irc_channelinfo.log...\n",
      "Successfully monitoring /Users/preneond/Documents/Work/Stratosphere/IRC-Research/IRC-Behavioral-Analysis/zeek/logs/56/irc_channelinfo.log...\n",
      "Successfully monitoring /Users/preneond/Documents/Work/Stratosphere/IRC-Research/IRC-Behavioral-Analysis/zeek/logs/62/irc_channelinfo.log...\n",
      "Successfully monitoring /Users/preneond/Documents/Work/Stratosphere/IRC-Research/IRC-Behavioral-Analysis/zeek/logs/irc1/irc_channelinfo.log...\n",
      "Successfully monitoring /Users/preneond/Documents/Work/Stratosphere/IRC-Research/IRC-Behavioral-Analysis/zeek/logs/34/irc_networkinfo.log...\n",
      "Successfully monitoring /Users/preneond/Documents/Work/Stratosphere/IRC-Research/IRC-Behavioral-Analysis/zeek/logs/39/irc_networkinfo.log...\n",
      "Successfully monitoring /Users/preneond/Documents/Work/Stratosphere/IRC-Research/IRC-Behavioral-Analysis/zeek/logs/42/irc_networkinfo.log...\n",
      "Successfully monitoring /Users/preneond/Documents/Work/Stratosphere/IRC-Research/IRC-Behavioral-Analysis/zeek/logs/51/irc_networkinfo.log...\n",
      "Successfully monitoring /Users/preneond/Documents/Work/Stratosphere/IRC-Research/IRC-Behavioral-Analysis/zeek/logs/56/irc_networkinfo.log...\n",
      "Successfully monitoring /Users/preneond/Documents/Work/Stratosphere/IRC-Research/IRC-Behavioral-Analysis/zeek/logs/62/irc_networkinfo.log...\n",
      "Successfully monitoring /Users/preneond/Documents/Work/Stratosphere/IRC-Research/IRC-Behavioral-Analysis/zeek/logs/irc1/irc_networkinfo.log...\n"
     ]
    }
   ],
   "source": [
    "logs_join_mal = list(map(lambda x: load_logs(x),logs_fn_join))\n",
    "logs_join_benign = list(map(lambda x: load_logs(x),logs_fn_join))\n",
    "logs_join = logs_join_mal + logs_join_benign\n",
    "\n",
    "logs_privmsg_mal = list(map(lambda x: load_logs(x),logs_fn_privmsg_mal))\n",
    "logs_privmsg_mal = [list(filter(lambda x: x['target'].startswith('#'), log)) for log in logs_privmsg_mal]\n",
    "logs_privmsg_benign = list(map(lambda x: load_logs(x), logs_fn_privmsg_benign))\n",
    "logs_privmsg_benign = [list(filter(lambda x: x['target'].startswith('#'), log)) for log in logs_privmsg_benign]\n",
    "logs_privmsg = logs_privmsg_mal + logs_privmsg_benign\n",
    "\n",
    "logs_channelinfo_mal = list(map(lambda x: load_logs(x), logs_fn_channelinfo_mal))\n",
    "logs_channelinfo_benign = list(map(lambda x: load_logs(x), logs_fn_channelinfo_benign))\n",
    "logs_channelinfo = logs_channelinfo_mal + logs_channelinfo_benign\n",
    "\n",
    "\n",
    "logs_networkinfo_mal = list(map(lambda x: load_logs(x), logs_fn_networkinfo_mal))\n",
    "logs_networkinfo_benign = list(map(lambda x: load_logs(x), logs_fn_networkinfo_benign))\n",
    "logs_networkinfo = logs_networkinfo_mal + logs_networkinfo_benign"
   ]
  },
  {
   "cell_type": "markdown",
   "metadata": {},
   "source": [
    "### Divide logs by channels"
   ]
  },
  {
   "cell_type": "code",
   "execution_count": 7,
   "metadata": {},
   "outputs": [],
   "source": [
    "from collections import defaultdict\n",
    "logs_join_divided = []\n",
    "for logs in logs_join:\n",
    "    logs_per_channel = defaultdict(lambda: [])    \n",
    "    for log in logs:\n",
    "        logs_per_channel[log['channel']].append(log)\n",
    "    logs_join_divided.append(logs_per_channel)"
   ]
  },
  {
   "cell_type": "code",
   "execution_count": 8,
   "metadata": {},
   "outputs": [],
   "source": [
    "logs_privmsg_benign_divided = []\n",
    "for logs in logs_privmsg_benign:\n",
    "    logs_per_channel = defaultdict(lambda: [])    \n",
    "    for log in logs:\n",
    "        logs_per_channel[log['target']].append(log)\n",
    "    logs_privmsg_benign_divided.append(logs_per_channel)"
   ]
  },
  {
   "cell_type": "code",
   "execution_count": 9,
   "metadata": {},
   "outputs": [],
   "source": [
    "logs_privmsg_mal_divided = []\n",
    "for logs in logs_privmsg_mal:\n",
    "    logs_per_channel = defaultdict(lambda: [])    \n",
    "    for log in logs:\n",
    "        logs_per_channel[log['target']].append(log)\n",
    "    logs_privmsg_mal_divided.append(logs_per_channel)"
   ]
  },
  {
   "cell_type": "markdown",
   "metadata": {},
   "source": [
    "## Number of Users in Channel per Day"
   ]
  },
  {
   "cell_type": "code",
   "execution_count": 23,
   "metadata": {},
   "outputs": [],
   "source": [
    "import json\n",
    "\n",
    "def ircjoin_compute(logs):\n",
    "    if len(logs) == 0:\n",
    "        return None, None\n",
    "\n",
    "    logs_ts = list(map(lambda x: x['ts'].date(), logs))\n",
    "\n",
    "    # first ts of join command\n",
    "    ts_min = min(logs_ts)\n",
    "    ts_max = max(logs_ts)\n",
    "#     print('min date: {}, max date: {}'.format(ts_min, ts_max))\n",
    "    span = ts_max - ts_min\n",
    "    \n",
    "    dates = [ts_min+timedelta(days=i) for i in range(span.days+1)]\n",
    "\n",
    "    ## count how many join commands are in which day \n",
    "    logs_per_day = defaultdict(lambda: 0)\n",
    "    for v in logs_ts:\n",
    "        logs_per_day[v] += 1\n",
    "    \n",
    "    dates_count = []\n",
    "    count = 0\n",
    "    for d in dates:\n",
    "        count += logs_per_day[d]\n",
    "        dates_count.append(count)\n",
    "    \n",
    "    return dates, dates_count\n",
    "\n",
    "\n",
    "def ircjoin_visualize(dates, dates_count):\n",
    "    plt.bar(dates,dates_count)\n",
    "    plt.show()"
   ]
  },
  {
   "cell_type": "markdown",
   "metadata": {},
   "source": [
    "### Data export into CSV"
   ]
  },
  {
   "cell_type": "code",
   "execution_count": 24,
   "metadata": {},
   "outputs": [
    {
     "name": "stdout",
     "output_type": "stream",
     "text": [
      "ircjoin...\n",
      "/Users/preneond/Documents/Work/Stratosphere/IRC-Research/IRC-Behavioral-Analysis/python/out/03/join_freq.log\n",
      "/Users/preneond/Documents/Work/Stratosphere/IRC-Research/IRC-Behavioral-Analysis/python/out/04/join_freq.log\n",
      "/Users/preneond/Documents/Work/Stratosphere/IRC-Research/IRC-Behavioral-Analysis/python/out/34/join_freq.log\n",
      "/Users/preneond/Documents/Work/Stratosphere/IRC-Research/IRC-Behavioral-Analysis/python/out/39/join_freq.log\n",
      "/Users/preneond/Documents/Work/Stratosphere/IRC-Research/IRC-Behavioral-Analysis/python/out/42/join_freq.log\n",
      "/Users/preneond/Documents/Work/Stratosphere/IRC-Research/IRC-Behavioral-Analysis/python/out/51/join_freq.log\n",
      "/Users/preneond/Documents/Work/Stratosphere/IRC-Research/IRC-Behavioral-Analysis/python/out/56/join_freq.log\n",
      "/Users/preneond/Documents/Work/Stratosphere/IRC-Research/IRC-Behavioral-Analysis/python/out/62/join_freq.log\n",
      "/Users/preneond/Documents/Work/Stratosphere/IRC-Research/IRC-Behavioral-Analysis/python/out/irc1/join_freq.log\n"
     ]
    }
   ],
   "source": [
    "print('ircjoin...')\n",
    "for ln, l in zip(log_names, logs_join_divided):\n",
    "   fn = os.path.join(out_dir, ln, fileout_join_freq)\n",
    "   df_join = pd.DataFrame(columns=['channel','date','users_count'])\n",
    "   \n",
    "   for l_k in l.keys():\n",
    "       log = l[l_k]\n",
    "       d_arr, dc_arr = ircjoin_compute(log)\n",
    "       # ircjoin_visualize(d, dc)\n",
    "       for d, dc in zip(d_arr,dc_arr):\n",
    "           df_join = df_join.append({'channel': l_k, 'date': d, 'users_count': dc}, ignore_index=True)\n",
    "   \n",
    "   print(fn)\n",
    "   df_join.to_csv(fn, sep=';', encoding='utf-8')"
   ]
  },
  {
   "cell_type": "markdown",
   "metadata": {},
   "source": [
    "### Reading exported all csv and merging it into one "
   ]
  },
  {
   "cell_type": "code",
   "execution_count": 12,
   "metadata": {},
   "outputs": [],
   "source": [
    "# print('ircjoin...')\n",
    "# df_join = pd.DataFrame(columns=['channel','date','users_count', 'pcap', 'malicious'])\n",
    "# for ln in log_names_mal:\n",
    "#     fn = os.path.join(out_dir, ln, fileout_join_freq)\n",
    "#     df_join_tmp = pd.read_csv(fn, sep=';', encoding='utf-8')\n",
    "   \n",
    "#     for i, df_el in df_join_tmp.iterrows():\n",
    "#         df_join = df_join.append({'channel': df_el['channel'],\n",
    "#                                   'date': df_el['date'],\n",
    "#                                   'users_count': df_el['users_count'],\n",
    "#                                   'pcap': ln,\n",
    "#                                   'malicious': 1\n",
    "#                                  }, ignore_index=True)\n",
    "   \n",
    "# for ln in log_names_benign:\n",
    "#     fn = os.path.join(out_dir, ln, fileout_join_freq)\n",
    "#     df_join_tmp = pd.read_csv(fn, sep=';', encoding='utf-8')\n",
    "#     for i, df_el in df_join_tmp.iterrows():\n",
    "#         df_join = df_join.append({'channel': df_el['channel'],\n",
    "#                                       'date': df_el['date'],\n",
    "#                                       'users_count': df_el['users_count'],\n",
    "#                                       'pcap': ln,\n",
    "#                                       'malicious': 0\n",
    "#                                      }, ignore_index=True)\n",
    "\n",
    "df_join = pd.read_csv(os.path.join(out_dir, 'join_freq_all.csv'))"
   ]
  },
  {
   "cell_type": "markdown",
   "metadata": {},
   "source": [
    "## Levenshtein Distance of Messages in Channel"
   ]
  },
  {
   "cell_type": "code",
   "execution_count": 69,
   "metadata": {},
   "outputs": [],
   "source": [
    "def compute_levenshtein_distance(logs_msg):\n",
    "    combs = itertools.combinations(logs_msg, 2)\n",
    "    dist_lev_arr = []\n",
    "    for msg1, msg2 in combs:\n",
    "        dist_lev_arr.append(levenshtein_distance(msg1,msg2))\n",
    "        \n",
    "#     return dt_lev_arr"
   ]
  },
  {
   "cell_type": "markdown",
   "metadata": {},
   "source": [
    "### Bubble plot"
   ]
  },
  {
   "cell_type": "code",
   "execution_count": 70,
   "metadata": {},
   "outputs": [
    {
     "name": "stdout",
     "output_type": "stream",
     "text": [
      "channel:  ##Summit\n",
      "channel:  #Runz\n",
      "channel:  #007\n",
      "channel:  #kz\n",
      "channel:  #all\n",
      "channel:  #x\n",
      "channel:  #root\n",
      "channel:  #o\n"
     ]
    }
   ],
   "source": [
    "n = len(logs_privmsg_divided)\n",
    "\n",
    "print('ircprivmsg..')\n",
    "\n",
    "def compute_lev_dist_per_channel(fn, l_k):\n",
    "    print('channel: ', l_k)\n",
    "    # compute levenshtein distance\n",
    "    logs_msg = [log['msg'] for log in logs_div[l_k]]\n",
    "    logs_lev_dist = compute_levenshtein_distance(logs_msg)\n",
    "    # compute number of msg's senders per channel\n",
    "    sources = set([log['source'] for log in logs_div[l_k]])\n",
    "    print('sources: ', len(sources))\n",
    "\n",
    "    df = pd.DataFrame([{'channel': l_k, 'num_sources': len(sources), 'lev_dist': logs_lev_dist}])\n",
    "    \n",
    "\n",
    "    if not os.path.isfile(fn):\n",
    "        print('creating csv file....')\n",
    "        df.to_csv(fn, header='column_names')\n",
    "    else:\n",
    "        print('csv file exists.')\n",
    "        df.to_csv(fn, mode='a', header=False)\n",
    "\n",
    "    return df\n",
    "\n",
    "\n",
    "for ln, logs_div in zip(log_names_benign, logs_privmsg_divided):\n",
    "    with Pool() as pool:\n",
    "        fn = os.path.join(out_dir, ln, fileout_lev_dist)\n",
    "        # loop through channels            \n",
    "        data = pool.starmap(compute_lev_dist_per_channel, itertools.product([fn], logs_div.keys()))     "
   ]
  },
  {
   "cell_type": "markdown",
   "metadata": {},
   "source": [
    "## Channel Language Recognition"
   ]
  },
  {
   "cell_type": "code",
   "execution_count": 10,
   "metadata": {},
   "outputs": [],
   "source": [
    "## Create a text corpus for each file\n",
    "def load_corpus(logs, pcap):\n",
    "    corp_ch = set(filter(lambda x: len(x) > 2, chain.from_iterable(chain.from_iterable(map(lambda x: [re.findall(r\"[a-zA-Z]+\", w) for w in x['msg'].split()], logs)))))\n",
    "    return corp_ch"
   ]
  },
  {
   "cell_type": "markdown",
   "metadata": {},
   "source": [
    "## Malicious Samples\n",
    "\n",
    "Compute message corpus per each channels"
   ]
  },
  {
   "cell_type": "code",
   "execution_count": 31,
   "metadata": {},
   "outputs": [],
   "source": [
    "# logs_in = logs_privmsg_mal_divided\n",
    "# load_corpus(logs_in)\n",
    "corpus_df_mal = pd.DataFrame(columns=['pcap','corpus','lang'])\n",
    "for ln, logs in zip(log_names_mal, logs_privmsg_mal_divided):\n",
    "    for channel in logs.keys():\n",
    "        corpus = load_corpus(logs[channel], ln)\n",
    "        corpus_df_mal = corpus_df_mal.append({'pcap': ln, 'channel': channel, 'corpus': corpus}, ignore_index=True)"
   ]
  },
  {
   "cell_type": "markdown",
   "metadata": {},
   "source": [
    "Detect languages"
   ]
  },
  {
   "cell_type": "code",
   "execution_count": 32,
   "metadata": {},
   "outputs": [],
   "source": [
    "for i, c in corpus_df_mal.iterrows():\n",
    "    pcap = c['pcap']\n",
    "    text = \" \".join(c['corpus'])\n",
    "    lang = \"Unidentified\"\n",
    "    if len(text) > 2:\n",
    "        code = TextBlob(text).detect_language()\n",
    "        lang = pycountry.languages.get(alpha_2=code).name\n",
    "    corpus_df_mal.iloc[i]['lang'] =  lang"
   ]
  },
  {
   "cell_type": "markdown",
   "metadata": {},
   "source": [
    "### Plotbar - channels"
   ]
  },
  {
   "cell_type": "code",
   "execution_count": 33,
   "metadata": {},
   "outputs": [
    {
     "data": {
      "text/plain": [
       "(array([0, 1, 2]), <a list of 3 Text xticklabel objects>)"
      ]
     },
     "execution_count": 33,
     "metadata": {},
     "output_type": "execute_result"
    },
    {
     "data": {
      "image/png": "[encoded data removed]",
      "text/plain": [
       "<Figure size 720x720 with 1 Axes>"
      ]
     },
     "metadata": {
      "needs_background": "light"
     },
     "output_type": "display_data"
    }
   ],
   "source": [
    "# # corpus_df.plot.pie(y='lang', figsize=(5,5))    \n",
    "fig = plt.figure(figsize=(10,10))\n",
    "\n",
    "myplot = corpus_df_mal['lang'].value_counts().plot(kind='bar', color =['blue','orange','gray'], title='(Malware Samples) Channel profiling - Language', alpha=0.7)\n",
    "import matplotlib.patches as mpatches\n",
    "POR = mpatches.Patch(color='orange', label= \",\".join(list(corpus_df_mal[corpus_df_mal['lang'] == 'Portuguese']['channel'])))\n",
    "UN = mpatches.Patch(color='gray', label= \",\".join(list(corpus_df_mal[corpus_df_mal['lang'] == 'Unidentified']['channel'])))\n",
    "ENG = mpatches.Patch(color='blue', label= \",\".join(list(corpus_df_mal[corpus_df_mal['lang'] == 'English']['channel'])))\n",
    "myplot.legend(handles=[POR,UN,ENG])\n",
    "\n",
    "plt.xticks(rotation=0)"
   ]
  },
  {
   "cell_type": "code",
   "execution_count": 16,
   "metadata": {},
   "outputs": [
    {
     "data": {
      "text/plain": [
       "Series([], Name: lang, dtype: object)"
      ]
     },
     "execution_count": 16,
     "metadata": {},
     "output_type": "execute_result"
    }
   ],
   "source": [
    " corpus_df_mal['lang']"
   ]
  },
  {
   "cell_type": "markdown",
   "metadata": {},
   "source": [
    "### Plotbar - pcaps"
   ]
  },
  {
   "cell_type": "code",
   "execution_count": 34,
   "metadata": {},
   "outputs": [
    {
     "data": {
      "text/plain": [
       "(array([0, 1, 2]), <a list of 3 Text xticklabel objects>)"
      ]
     },
     "execution_count": 34,
     "metadata": {},
     "output_type": "execute_result"
    },
    {
     "data": {
      "image/png": "[encoded data removed]",
      "text/plain": [
       "<Figure size 720x720 with 1 Axes>"
      ]
     },
     "metadata": {
      "needs_background": "light"
     },
     "output_type": "display_data"
    }
   ],
   "source": [
    "# # corpus_df.plot.pie(y='lang', figsize=(5,5))    \n",
    "fig = plt.figure(figsize=(10,10))\n",
    "\n",
    "myplot = corpus_df_mal['lang'].value_counts().plot(kind='bar', color =['blue','orange','gray'], title='(Malware Samples) Channel profiling - Language', alpha=0.7)\n",
    "import matplotlib.patches as mpatches\n",
    "POR = mpatches.Patch(color='orange', label= \",\".join(set(corpus_df_mal[corpus_df_mal['lang'] == 'Portuguese']['pcap'])))\n",
    "UN = mpatches.Patch(color='gray', label= \",\".join(set(corpus_df_mal[corpus_df_mal['lang'] == 'Unidentified']['pcap'])))\n",
    "ENG = mpatches.Patch(color='blue', label= \",\".join(set(corpus_df_mal[corpus_df_mal['lang'] == 'English']['pcap'])))\n",
    "myplot.legend(handles=[POR,UN,ENG])\n",
    "\n",
    "plt.xticks(rotation=0)"
   ]
  },
  {
   "cell_type": "markdown",
   "metadata": {},
   "source": [
    "## Benign Samples\n",
    "\n",
    "Compute message corpus per each channels"
   ]
  },
  {
   "cell_type": "code",
   "execution_count": 35,
   "metadata": {},
   "outputs": [],
   "source": [
    "corpus_df_benign = pd.DataFrame(columns=['pcap','corpus','lang'])\n",
    "for ln, logs in zip(log_names_benign, logs_privmsg_benign_divided):\n",
    "    for channel in logs.keys():\n",
    "        corpus = load_corpus(logs[channel], ln)\n",
    "        corpus_df_benign = corpus_df_benign.append({'pcap': ln, 'channel': channel, 'corpus': corpus}, ignore_index=True)"
   ]
  },
  {
   "cell_type": "markdown",
   "metadata": {},
   "source": [
    "Detect language"
   ]
  },
  {
   "cell_type": "code",
   "execution_count": 36,
   "metadata": {},
   "outputs": [],
   "source": [
    "for i, c in corpus_df_benign.iterrows():\n",
    "    pcap = c['pcap']\n",
    "    text = \" \".join(c['corpus'])\n",
    "    lang = \"Unidentified\"\n",
    "    if len(text) > 2:\n",
    "        code = TextBlob(text).detect_language()\n",
    "        lang = pycountry.languages.get(alpha_2=code).name\n",
    "    corpus_df_benign.iloc[i]['lang'] =  lang"
   ]
  },
  {
   "cell_type": "markdown",
   "metadata": {},
   "source": [
    "### Plotbar - channels"
   ]
  },
  {
   "cell_type": "code",
   "execution_count": 42,
   "metadata": {},
   "outputs": [
    {
     "data": {
      "text/plain": [
       "(array([ 0,  1,  2,  3,  4,  5,  6,  7,  8,  9, 10, 11, 12, 13, 14, 15]),\n",
       " <a list of 16 Text major ticklabel objects>)"
      ]
     },
     "execution_count": 42,
     "metadata": {},
     "output_type": "execute_result"
    },
    {
     "data": {
      "image/png": "[encoded data removed]",
      "text/plain": [
       "<Figure size 2880x1440 with 1 Axes>"
      ]
     },
     "metadata": {
      "needs_background": "light"
     },
     "output_type": "display_data"
    }
   ],
   "source": [
    "import random\n",
    "# corpus_df.plot.pie(y='lang', figsize=(5,5))    \n",
    "fig = plt.figure(figsize=(40,20))\n",
    "rgb = [(random.random(), random.random(), random.random()) for i in range(corpus_df_benign.shape[0])]\n",
    "langs = ['English', 'Czech', 'Spanish', 'French', 'Polish','Slovak',\n",
    "         'Romanian', 'Italian', 'Spanish', 'Igbo', 'French','Bosnian',\n",
    "         'Russian', 'Norwegian', 'Finnish', 'Turkish', 'Unidentified']\n",
    "myplot = corpus_df_benign['lang'].value_counts().plot(kind='bar', color=rgb, title='(Benign Samples) Channel profiling - Language', alpha=0.7)\n",
    "import matplotlib.patches as mpatches\n",
    "\n",
    "handle_arr = []\n",
    "for c, lang in zip(rgb, langs):\n",
    "    h = mpatches.Patch(color=c, label= \",\".join(list(corpus_df_benign[corpus_df_benign['lang'] == lang]['channel'])))\n",
    "    handle_arr.append(h)\n",
    "\n",
    "myplot.legend(handles=handle_arr)\n",
    "\n",
    "plt.xticks(rotation=0)"
   ]
  },
  {
   "cell_type": "markdown",
   "metadata": {},
   "source": [
    "### Plotbar - pcaps"
   ]
  },
  {
   "cell_type": "code",
   "execution_count": 47,
   "metadata": {},
   "outputs": [
    {
     "data": {
      "text/plain": [
       "(array([ 0,  1,  2,  3,  4,  5,  6,  7,  8,  9, 10, 11, 12, 13, 14, 15]),\n",
       " <a list of 16 Text major ticklabel objects>)"
      ]
     },
     "execution_count": 47,
     "metadata": {},
     "output_type": "execute_result"
    },
    {
     "data": {
      "image/png": "[encoded data removed]",
      "text/plain": [
       "<Figure size 2880x1440 with 1 Axes>"
      ]
     },
     "metadata": {
      "needs_background": "light"
     },
     "output_type": "display_data"
    }
   ],
   "source": [
    "# corpus_df.plot.pie(y='lang', figsize=(5,5))    \n",
    "fig = plt.figure(figsize=(40,20))\n",
    "rgb = [(random.random(), random.random(), random.random()) for i in range(corpus_df_benign.shape[0])]\n",
    "langs = ['English', 'Czech', 'Spanish', 'French', 'Polish','Slovak',\n",
    "         'Romanian', 'Italian', 'Spanish', 'Igbo', 'French','Bosnian',\n",
    "         'Russian', 'Norwegian', 'Finnish', 'Turkish', 'Unidentified']\n",
    "myplot = corpus_df_benign['lang'].value_counts().plot(kind='bar', color=rgb, title='(Benign Samples) Channel profiling - Language', alpha=0.7)\n",
    "import matplotlib.patches as mpatches\n",
    "\n",
    "handle_arr = []\n",
    "for c, lang in zip(rgb, langs):\n",
    "    h = mpatches.Patch(color=c, label= \",\".join(set(corpus_df_benign[corpus_df_benign['lang'] == lang]['pcap'])))\n",
    "    handle_arr.append(h)\n",
    "\n",
    "myplot.legend(handles=handle_arr)\n",
    "\n",
    "plt.xticks(rotation=0)"
   ]
  },
  {
   "cell_type": "markdown",
   "metadata": {},
   "source": [
    "## Message periodicity"
   ]
  },
  {
   "cell_type": "code",
   "execution_count": 10,
   "metadata": {},
   "outputs": [],
   "source": [
    "def compute_channel_periodicity(communication):\n",
    "    \"\"\"\n",
    "    using Fast Fourier Transform to compute periodicity of messages in sessions\n",
    "    @:return value in [0,1] interval - 0 means that messages are not periodic at all\n",
    "    \"\"\"\n",
    "\n",
    "    if len(communication) < 3:\n",
    "        return None\n",
    "\n",
    "    t = list(map(lambda x: x['ts'].timestamp(), communication))\n",
    "    td = np.asarray(list(map(lambda x: x[0] - x[1], zip(t[1:], t))))\n",
    "    fft_res = np.absolute(np.fft.fft(td))\n",
    "    T = fft_res.argmax() + 2\n",
    "\n",
    "    rng_size = int(len(td) / T)\n",
    "    td_T = [td[x * T:x * T + T] for x in range(rng_size)]\n",
    "    td_T_avg = np.mean(td_T, 0)\n",
    "    # ||td_t - td_avg ||2 / ||td_t||\n",
    "    td_nmse = np.linalg.norm(td_T - td_T_avg) / np.linalg.norm(td_T)\n",
    "\n",
    "    return 1 - td_nmse"
   ]
  },
  {
   "cell_type": "markdown",
   "metadata": {},
   "source": [
    "### Malicious samples"
   ]
  },
  {
   "cell_type": "code",
   "execution_count": 11,
   "metadata": {},
   "outputs": [
    {
     "name": "stdout",
     "output_type": "stream",
     "text": [
      "##Summit\n",
      "0.015128429132320709\n",
      "#Runz\n",
      "None\n",
      "#007\n",
      "0.02555968508219897\n",
      "#all\n",
      "0.0021900108768839743\n",
      "#kz\n",
      "nan\n",
      "sb|869\n",
      "nan\n",
      "b4sh\n",
      "nan\n",
      "#x\n",
      "0.057190958417936644\n",
      "#root\n",
      "0.04653741075440776\n",
      "#o\n",
      "0.07417990022744858\n",
      "KING\n",
      "nan\n",
      "mouse\n",
      "nan\n"
     ]
    },
    {
     "name": "stderr",
     "output_type": "stream",
     "text": [
      "/usr/local/lib/python3.7/site-packages/ipykernel_launcher.py:19: RuntimeWarning: invalid value encountered in double_scalars\n"
     ]
    }
   ],
   "source": [
    "for ln, logs in zip(log_names_mal, logs_privmsg_mal_divided):\n",
    "    for channel in logs.keys():\n",
    "        print(channel)\n",
    "        print(compute_channel_periodicity(logs[channel]))"
   ]
  },
  {
   "cell_type": "markdown",
   "metadata": {},
   "source": [
    "### Benign Samples"
   ]
  },
  {
   "cell_type": "code",
   "execution_count": 12,
   "metadata": {},
   "outputs": [
    {
     "name": "stdout",
     "output_type": "stream",
     "text": [
      "#worldchat\n",
      "0.012570744138649781\n",
      "#amigacs\n",
      "0.00861610081441666\n",
      "#sscait\n",
      "0.4345393472631347\n",
      "#networker\n",
      "1.0\n",
      "#red_rulz\n",
      "0.0035106419700695612\n",
      "#linux.cz\n",
      "0.2873885829314331\n",
      "#programatori\n",
      "1.0\n",
      "#brno\n",
      "1.0\n",
      "#dump\n",
      "1.0\n",
      "#quizer\n",
      "0.24467197294145826\n",
      "#atw\n",
      "0.006827159800756544\n",
      "#take-over\n",
      "0.2875453315696175\n",
      "#linux-cs\n",
      "1.0\n",
      "#openbsd\n",
      "0.03012012034606537\n",
      "#pomoc\n",
      "0.019457959199807084\n",
      "#love\n",
      "0.004836489272078914\n",
      "#Kiev\n",
      "0.0029509823022598747\n",
      "#news.cz\n",
      "1.0\n",
      "#praha\n",
      "1.0\n",
      "#medvidkove\n",
      "0.005605784033985262\n",
      "#adom\n",
      "0.006609704412341655\n",
      "#cz\n",
      "0.013359640721099075\n",
      "#idlerpg.hu\n",
      "0.006249288752290472\n",
      "#Cybercafe\n",
      "0.301376285935927\n",
      "#styja\n",
      "0.021993537965344645\n",
      "#cd3\n",
      "0.3029786384898373\n",
      "#netbsd\n",
      "1.0\n",
      "#hitalios\n",
      "None\n",
      "#NetBSD\n",
      "0.13397459611396056\n",
      "#cd1\n",
      "0.7050974114494748\n",
      "#zcu\n",
      "0.006045403428441842\n",
      "#romania\n",
      "0.04449966524875626\n",
      "#OpenBSD\n",
      "0.3265374778651732\n",
      "#9x9pub\n",
      "0.21012288703085658\n",
      "#WORLDCHAT\n",
      "0.05321232456894831\n",
      "#ddos\n",
      "0.05370655754594733\n",
      "#kiev\n",
      "0.2928932188134524\n",
      "#freebsd\n",
      "0.1840367923279057\n",
      "#beginner\n",
      "0.10423973523933094\n",
      "#Jakarta\n",
      "None\n",
      "#ATW\n",
      "0.4384102840296249\n",
      "#turks\n",
      "0.0019342232506432966\n",
      "#Beginner\n",
      "1.0\n",
      "#..\n",
      "1.0\n",
      "#dupa_maryny\n",
      "nan\n",
      "#kosice\n",
      "1.0\n",
      "#obsd\n",
      "1.0\n",
      "#Becka\n",
      "1.0\n",
      "#u\n",
      "None\n",
      "#7gods\n",
      "None\n",
      "#Kosice\n",
      "1.0\n",
      "#dupa\n",
      "0.10557280900008403\n",
      "#cs\n",
      "0.047568169911958225\n",
      "#vilo\n",
      "0.048215572894224956\n",
      "#praha12.net\n",
      "0.0279991933241307\n",
      "#testerz\n",
      "1.0\n",
      "#android.pl\n",
      "0.02495835659167689\n",
      "#brute\n",
      "1.0\n",
      "#kepra\n",
      "None\n",
      "#bsd.cz\n",
      "1.0\n",
      "#imperium\n",
      "0.07373379063736762\n",
      "#bordel\n",
      "nan\n",
      "#cs-opers\n",
      "nan\n",
      "#orava\n",
      "1.0\n",
      "#croatia\n",
      "0.07401942816396156\n",
      "#cvut\n",
      "1.0\n",
      "#Becka,#ave\n",
      "None\n",
      "#slovensko\n",
      "1.0\n",
      "#czestochowa\n",
      "None\n",
      "#Romania\n",
      "0.07417992414929242\n",
      "#funkychat\n",
      "nan\n",
      "#z\n",
      "None\n",
      "#makedonia\n",
      "1.0\n"
     ]
    },
    {
     "name": "stderr",
     "output_type": "stream",
     "text": [
      "/usr/local/lib/python3.7/site-packages/ipykernel_launcher.py:19: RuntimeWarning: invalid value encountered in double_scalars\n"
     ]
    }
   ],
   "source": [
    "for ln, logs in zip(log_names_benign, logs_privmsg_benign_divided):\n",
    "    for channel in logs.keys():\n",
    "        print(channel)\n",
    "        print(compute_channel_periodicity(logs[channel]))"
   ]
  },
  {
   "cell_type": "markdown",
   "metadata": {},
   "source": [
    "## Message Frequency"
   ]
  },
  {
   "cell_type": "code",
   "execution_count": 48,
   "metadata": {},
   "outputs": [],
   "source": [
    "def get_message_frequency(logs):\n",
    "    if len(logs) < 2:\n",
    "        return 0.0\n",
    "    t = list(map(lambda x: x['ts'].timestamp(), logs))\n",
    "    try:\n",
    "        return len(t)/(t[-1]-t[0])\n",
    "    except ZeroDivisionError:\n",
    "        return 0.0"
   ]
  },
  {
   "cell_type": "markdown",
   "metadata": {},
   "source": [
    "### Malicious Samples"
   ]
  },
  {
   "cell_type": "code",
   "execution_count": 49,
   "metadata": {},
   "outputs": [
    {
     "name": "stdout",
     "output_type": "stream",
     "text": [
      "##Summit\n",
      "0.0014494471828811499\n",
      "#Runz\n",
      "0.0\n",
      "#007\n",
      "0.00018943037592731668\n",
      "#all\n",
      "0.002409201303405292\n",
      "#kz\n",
      "0.0\n",
      "sb|869\n",
      "0.0\n",
      "b4sh\n",
      "0.0\n",
      "#x\n",
      "0.000963526035675216\n",
      "#root\n",
      "0.000257174949286345\n",
      "#o\n",
      "146.19903098748648\n",
      "KING\n",
      "0.0\n",
      "mouse\n",
      "0.0\n"
     ]
    }
   ],
   "source": [
    "for ln, logs in zip(log_names_mal, logs_privmsg_mal_divided):\n",
    "    for channel in logs.keys():\n",
    "        print(channel)\n",
    "        print(get_message_frequency(logs[channel]))"
   ]
  },
  {
   "cell_type": "markdown",
   "metadata": {},
   "source": [
    "### Benign Samples"
   ]
  },
  {
   "cell_type": "code",
   "execution_count": 50,
   "metadata": {},
   "outputs": [
    {
     "name": "stdout",
     "output_type": "stream",
     "text": [
      "#worldchat\n",
      "0.022352735250257022\n",
      "#amigacs\n",
      "0.0011944242986728355\n",
      "#sscait\n",
      "6.470790986247647e-05\n",
      "#networker\n",
      "0.013756798163160023\n",
      "#red_rulz\n",
      "0.003069545632393971\n",
      "#linux.cz\n",
      "0.0023971979016283\n",
      "#programatori\n",
      "0.03180945775457946\n",
      "#brno\n",
      "0.0010897298877341674\n",
      "#dump\n",
      "0.017035960812017567\n",
      "#quizer\n",
      "0.0012421726749749424\n",
      "#atw\n",
      "0.005027228262539666\n",
      "#take-over\n",
      "0.0042949980592091345\n",
      "#linux-cs\n",
      "0.042151712783795064\n",
      "#openbsd\n",
      "0.001252340856882569\n",
      "#pomoc\n",
      "0.0010530725533292092\n",
      "#love\n",
      "0.0036715965586053847\n",
      "#Kiev\n",
      "0.002100235022941908\n",
      "#news.cz\n",
      "0.07590024291436934\n",
      "#praha\n",
      "0.0034615808989798967\n",
      "#medvidkove\n",
      "0.005069127305972177\n",
      "#adom\n",
      "0.002365986178268756\n",
      "#cz\n",
      "0.0011214937834661321\n",
      "#idlerpg.hu\n",
      "0.0009093772328374456\n",
      "#Cybercafe\n",
      "2.9095509158203607e-05\n",
      "#styja\n",
      "0.00029509526626130347\n",
      "#cd3\n",
      "3.536329383069081e-05\n",
      "#netbsd\n",
      "0.0006642293393409727\n",
      "#hitalios\n",
      "0.0\n",
      "#NetBSD\n",
      "7.811713220239137e-05\n",
      "#cd1\n",
      "0.00040458922689056413\n",
      "#zcu\n",
      "0.0014699335199836359\n",
      "#romania\n",
      "0.00015809733601533806\n",
      "#OpenBSD\n",
      "0.00023578008277875547\n",
      "#9x9pub\n",
      "4.3569043810178334e-05\n",
      "#WORLDCHAT\n",
      "7.87041486313459e-05\n",
      "#ddos\n",
      "0.00015975316063732056\n",
      "#kiev\n",
      "1.919532484868038e-05\n",
      "#freebsd\n",
      "5.669823030687485e-05\n",
      "#beginner\n",
      "0.00011203132099852838\n",
      "#Jakarta\n",
      "0.0\n",
      "#ATW\n",
      "2.508173064928124e-05\n",
      "#turks\n",
      "0.004396282470090759\n",
      "#Beginner\n",
      "0.00017840658311215504\n",
      "#..\n",
      "0.0027414881296004977\n",
      "#dupa_maryny\n",
      "0.015022330189109336\n",
      "#kosice\n",
      "2.312280183467115e-05\n",
      "#obsd\n",
      "2.3272109310249634e-05\n",
      "#Becka\n",
      "4.452662476657686e-05\n",
      "#u\n",
      "0.0\n",
      "#7gods\n",
      "1.1561400917335575e-05\n",
      "#Kosice\n",
      "1.734210137600336e-05\n",
      "#dupa\n",
      "5.6753846747155604e-05\n",
      "#cs\n",
      "0.00035093332675989117\n",
      "#vilo\n",
      "0.00020809743807290388\n",
      "#praha12.net\n",
      "0.00040030246237484637\n",
      "#testerz\n",
      "-0.018563152516979996\n",
      "#android.pl\n",
      "0.0006853524831613108\n",
      "#brute\n",
      "0.0005934135177745951\n",
      "#kepra\n",
      "0.00011440040357866571\n",
      "#bsd.cz\n",
      "0.0003757061014592355\n",
      "#imperium\n",
      "0.000157665899705616\n",
      "#bordel\n",
      "0.0\n",
      "#cs-opers\n",
      "0.0\n",
      "#orava\n",
      "3.821952180048357e-05\n",
      "#croatia\n",
      "0.00019964657901661663\n",
      "#cvut\n",
      "466603.5012224939\n",
      "#Becka,#ave\n",
      "0.0\n",
      "#slovensko\n",
      "83468.73631840796\n",
      "#czestochowa\n",
      "16946.68282828283\n",
      "#Romania\n",
      "0.04951133793447753\n",
      "#funkychat\n",
      "0.0\n",
      "#z\n",
      "35098.77824267782\n",
      "#makedonia\n",
      "52560.20050125313\n"
     ]
    }
   ],
   "source": [
    "for ln, logs in zip(log_names_benign, logs_privmsg_benign_divided):\n",
    "    for channel in logs.keys():\n",
    "        print(channel)\n",
    "        print(get_message_frequency(logs[channel]))"
   ]
  },
  {
   "cell_type": "markdown",
   "metadata": {},
   "source": [
    "## Special characters"
   ]
  },
  {
   "cell_type": "code",
   "execution_count": 25,
   "metadata": {},
   "outputs": [],
   "source": [
    "def get_spec_chars_mean(logs):\n",
    "    word_ch = list(chain.from_iterable(map(lambda x: x['msg'].split(), logs)))\n",
    "    word_spec = map(lambda x: \"\".join(re.findall(r'[^A-Za-z]',x)), word_ch)\n",
    "    spec_chars_count = sum(map(len, word_spec))\n",
    "    chars_total_count = sum(map(len, word_ch))\n",
    "    return spec_chars_count/chars_total_count"
   ]
  },
  {
   "cell_type": "markdown",
   "metadata": {},
   "source": [
    "### Malicous Samples"
   ]
  },
  {
   "cell_type": "code",
   "execution_count": 21,
   "metadata": {},
   "outputs": [
    {
     "data": {
      "text/plain": [
       "'#@$%#$%$78897981290490248'"
      ]
     },
     "execution_count": 21,
     "metadata": {},
     "output_type": "execute_result"
    }
   ],
   "source": [
    "for ln, logs in zip(log_names_mal, logs_privmsg_mal_divided):\n",
    "    for channel in logs.keys():\n",
    "        m = get_spec_chars_mean(logs[channel])\n",
    "        print(channel)\n",
    "        print(m)"
   ]
  },
  {
   "cell_type": "markdown",
   "metadata": {},
   "source": [
    "### Benign Samples"
   ]
  },
  {
   "cell_type": "code",
   "execution_count": 26,
   "metadata": {},
   "outputs": [
    {
     "name": "stdout",
     "output_type": "stream",
     "text": [
      "#worldchat\n",
      "0.0894181388919718\n",
      "#amigacs\n",
      "0.17476033317617476\n",
      "#sscait\n",
      "0.09375\n",
      "#networker\n",
      "0.07656931804811672\n",
      "#red_rulz\n",
      "0.08970024791525806\n",
      "#linux.cz\n",
      "0.220095633730343\n",
      "#programatori\n",
      "0.14638966245807064\n",
      "#brno\n",
      "0.14609861826063397\n",
      "#dump\n",
      "0.1251922946679954\n",
      "#quizer\n",
      "0.2048705413724425\n",
      "#atw\n",
      "0.16654117140859465\n",
      "#take-over\n",
      "0.19739558519930125\n",
      "#linux-cs\n",
      "0.13163620539599652\n",
      "#openbsd\n",
      "0.12412017167381974\n",
      "#pomoc\n",
      "0.21441450221724087\n",
      "#love\n",
      "0.14161211129296236\n",
      "#Kiev\n",
      "0.10324200576028358\n",
      "#news.cz\n",
      "0.22402361869308193\n",
      "#praha\n",
      "0.35988032483259724\n",
      "#medvidkove\n",
      "0.1419194790428446\n",
      "#adom\n",
      "0.05653163404642694\n",
      "#cz\n",
      "0.08014212396367944\n",
      "#idlerpg.hu\n",
      "0.24967106994368718\n",
      "#Cybercafe\n",
      "0.1388888888888889\n",
      "#styja\n",
      "0.3595238095238095\n",
      "#cd3\n",
      "0.27450980392156865\n",
      "#netbsd\n",
      "0.10693069306930693\n",
      "#hitalios\n",
      "0.3333333333333333\n",
      "#NetBSD\n",
      "0.02962962962962963\n",
      "#cd1\n",
      "0.3333333333333333\n",
      "#zcu\n",
      "0.05611271765212576\n",
      "#romania\n",
      "0.15025906735751296\n",
      "#OpenBSD\n",
      "0.3214814814814815\n",
      "#9x9pub\n",
      "0.0\n",
      "#WORLDCHAT\n",
      "0.05314009661835749\n",
      "#ddos\n",
      "0.14285714285714285\n",
      "#kiev\n",
      "0.0\n",
      "#freebsd\n",
      "0.2\n",
      "#beginner\n",
      "0.14\n",
      "#Jakarta\n",
      "0.1935483870967742\n",
      "#ATW\n",
      "0.29411764705882354\n",
      "#turks\n",
      "0.0642791551882461\n",
      "#Beginner\n",
      "0.10894941634241245\n",
      "#..\n",
      "0.0797598627787307\n",
      "#dupa_maryny\n",
      "0.18779213637613418\n",
      "#kosice\n",
      "0.0\n",
      "#obsd\n",
      "0.0\n",
      "#Becka\n",
      "0.17391304347826086\n",
      "#u\n",
      "0.05\n",
      "#7gods\n",
      "0.0\n",
      "#Kosice\n",
      "0.0\n",
      "#dupa\n",
      "0.24493243243243243\n",
      "#cs\n",
      "0.10766045548654245\n",
      "#vilo\n",
      "0.16422660725652452\n",
      "#praha12.net\n",
      "0.2906641000962464\n",
      "#testerz\n",
      "0.11764705882352941\n",
      "#android.pl\n",
      "0.20944055944055945\n",
      "#brute\n",
      "0.7697825599641336\n",
      "#kepra\n",
      "0.3333333333333333\n",
      "#bsd.cz\n",
      "0.057692307692307696\n",
      "#imperium\n",
      "0.48034188034188036\n",
      "#bordel\n",
      "0.1870748299319728\n",
      "#cs-opers\n",
      "0.1981981981981982\n",
      "#orava\n",
      "0.0\n",
      "#croatia\n",
      "0.0011560693641618498\n",
      "#cvut\n",
      "0.1482758620689655\n",
      "#Becka,#ave\n",
      "0.14285714285714285\n",
      "#slovensko\n",
      "0.03333333333333333\n",
      "#czestochowa\n",
      "0.23076923076923078\n",
      "#Romania\n",
      "0.031746031746031744\n",
      "#funkychat\n",
      "0.0\n",
      "#z\n",
      "0.2\n",
      "#makedonia\n",
      "0.0\n"
     ]
    }
   ],
   "source": [
    "for ln, logs in zip(log_names_benign, logs_privmsg_benign_divided):\n",
    "    for channel in logs.keys():\n",
    "        m = get_spec_chars_mean(logs[channel])\n",
    "        print(channel)\n",
    "        print(m)"
   ]
  },
  {
   "cell_type": "markdown",
   "metadata": {},
   "source": [
    "## Word entropy"
   ]
  },
  {
   "cell_type": "code",
   "execution_count": 37,
   "metadata": {},
   "outputs": [],
   "source": [
    "def get_word_entropy(logs):\n",
    "    msg_word_count = defaultdict(lambda : 0)\n",
    "    comm2 = []\n",
    "    for log in logs:\n",
    "        msg_words = log['msg'].split()\n",
    "        for word in msg_words:\n",
    "            msg_word_count[word] += 1\n",
    "\n",
    "    _wordcounts = list(msg_word_count.values())\n",
    "    p = _wordcounts / np.sum(_wordcounts)\n",
    "    msg_word_entropy = -np.sum(p * np.log2(p))\n",
    "    return msg_word_entropy"
   ]
  },
  {
   "cell_type": "markdown",
   "metadata": {},
   "source": [
    "### Malicous Samples"
   ]
  },
  {
   "cell_type": "code",
   "execution_count": 39,
   "metadata": {},
   "outputs": [
    {
     "name": "stdout",
     "output_type": "stream",
     "text": [
      "##Summit\n",
      "8.10370868691142\n",
      "#Runz\n",
      "-0.0\n",
      "#007\n",
      "4.820940114626764\n",
      "#all\n",
      "4.278526261638936\n",
      "#kz\n",
      "5.244205515288646\n",
      "sb|869\n",
      "3.8268748818646374\n",
      "b4sh\n",
      "6.671548299795974\n",
      "#x\n",
      "5.0282456488610165\n",
      "#root\n",
      "5.824297280597514\n",
      "#o\n",
      "4.404315949407467\n",
      "KING\n",
      "3.846439344671016\n",
      "mouse\n",
      "3.846439344671016\n"
     ]
    }
   ],
   "source": [
    "for ln, logs in zip(log_names_mal, logs_privmsg_mal_divided):\n",
    "    for channel in logs.keys():\n",
    "        m = get_word_entropy(logs[channel])\n",
    "        print(channel)\n",
    "        print(m)"
   ]
  },
  {
   "cell_type": "markdown",
   "metadata": {},
   "source": [
    "### Benign Samples"
   ]
  },
  {
   "cell_type": "code",
   "execution_count": 38,
   "metadata": {},
   "outputs": [
    {
     "name": "stdout",
     "output_type": "stream",
     "text": [
      "#worldchat\n",
      "10.524316276910755\n",
      "#amigacs\n",
      "10.192377367425077\n",
      "#sscait\n",
      "4.6371987351738495\n",
      "#networker\n",
      "10.312721393626589\n",
      "#red_rulz\n",
      "9.23285661635769\n",
      "#linux.cz\n",
      "8.671442225939298\n",
      "#programatori\n",
      "11.541128438212413\n",
      "#brno\n",
      "8.475776064843428\n",
      "#dump\n",
      "10.30338190346369\n",
      "#quizer\n",
      "8.031681207992133\n",
      "#atw\n",
      "10.078145864688882\n",
      "#take-over\n",
      "8.73021043097653\n",
      "#linux-cs\n",
      "10.210444947937189\n",
      "#openbsd\n",
      "9.049965232513713\n",
      "#pomoc\n",
      "9.679540491364456\n",
      "#love\n",
      "7.4729285467619695\n",
      "#Kiev\n",
      "9.336393542497646\n",
      "#news.cz\n",
      "12.463609748199161\n",
      "#praha\n",
      "8.852557095049475\n",
      "#medvidkove\n",
      "10.404932457353208\n",
      "#adom\n",
      "9.513288444344287\n",
      "#cz\n",
      "8.036281869041405\n",
      "#idlerpg.hu\n",
      "7.75138360098888\n",
      "#Cybercafe\n",
      "1.3787834934861753\n",
      "#styja\n",
      "5.916866755464442\n",
      "#cd3\n",
      "1.5916727785823275\n",
      "#netbsd\n",
      "8.065177810108096\n",
      "#hitalios\n",
      "1.0\n",
      "#NetBSD\n",
      "5.585816304394414\n",
      "#cd1\n",
      "1.0\n",
      "#zcu\n",
      "9.39732485258433\n",
      "#romania\n",
      "5.0721401598021085\n",
      "#OpenBSD\n",
      "3.169925001442312\n",
      "#9x9pub\n",
      "0.9709505944546686\n",
      "#WORLDCHAT\n",
      "5.4403617589398685\n",
      "#ddos\n",
      "3.180832987205441\n",
      "#kiev\n",
      "2.4193819456463714\n",
      "#freebsd\n",
      "4.1757358691004915\n",
      "#beginner\n",
      "3.8582783084180443\n",
      "#Jakarta\n",
      "2.5216406363433186\n",
      "#ATW\n",
      "3.8016785094192325\n",
      "#turks\n",
      "8.16916568424418\n",
      "#Beginner\n",
      "5.020560938753404\n",
      "#..\n",
      "9.195176366080979\n",
      "#dupa_maryny\n",
      "8.020450560586621\n",
      "#kosice\n",
      "2.321928094887362\n",
      "#obsd\n",
      "0.8112781244591328\n",
      "#Becka\n",
      "1.584962500721156\n",
      "#u\n",
      "2.0\n",
      "#7gods\n",
      "1.5\n",
      "#Kosice\n",
      "1.9182958340544893\n",
      "#dupa\n",
      "5.882818521296306\n",
      "#cs\n",
      "7.378326047396601\n",
      "#vilo\n",
      "8.539270464412976\n",
      "#praha12.net\n",
      "5.033030980156478\n",
      "#testerz\n",
      "1.5\n",
      "#android.pl\n",
      "7.678463797607171\n",
      "#brute\n",
      "6.286064448236003\n",
      "#kepra\n",
      "1.0\n",
      "#bsd.cz\n",
      "3.169925001442312\n",
      "#imperium\n",
      "5.082619330363494\n",
      "#bordel\n",
      "5.231957037948607\n",
      "#cs-opers\n",
      "5.354406017540444\n",
      "#orava\n",
      "0.9709505944546686\n",
      "#croatia\n",
      "5.88639196778539\n",
      "#cvut\n",
      "7.573843963006465\n",
      "#Becka,#ave\n",
      "2.0\n",
      "#slovensko\n",
      "2.807354922057604\n",
      "#czestochowa\n",
      "1.0\n",
      "#Romania\n",
      "3.169925001442312\n",
      "#funkychat\n",
      "2.0\n",
      "#z\n",
      "1.0\n",
      "#makedonia\n",
      "-0.0\n"
     ]
    }
   ],
   "source": [
    "for ln, logs in zip(log_names_benign, logs_privmsg_benign_divided):\n",
    "    for channel in logs.keys():\n",
    "        m = get_word_entropy(logs[channel])\n",
    "        print(channel)\n",
    "        print(m)"
   ]
  },
  {
   "cell_type": "markdown",
   "metadata": {},
   "source": [
    "## Channel - Active Users"
   ]
  },
  {
   "cell_type": "code",
   "execution_count": 15,
   "metadata": {},
   "outputs": [],
   "source": [
    "def get_active_users(logs):\n",
    "    active_users = set(map(lambda x: x['source'], logs))\n",
    "    return len(active_users)"
   ]
  },
  {
   "cell_type": "markdown",
   "metadata": {},
   "source": [
    "### Malicous Samples"
   ]
  },
  {
   "cell_type": "code",
   "execution_count": 18,
   "metadata": {},
   "outputs": [
    {
     "name": "stdout",
     "output_type": "stream",
     "text": [
      "##Summit\n",
      "6\n",
      "#Runz\n",
      "1\n",
      "#007\n",
      "3\n",
      "#all\n",
      "4\n",
      "#kz\n",
      "2\n",
      "#x\n",
      "5\n",
      "#root\n",
      "6\n",
      "#o\n",
      "4\n"
     ]
    }
   ],
   "source": [
    "for ln, logs in zip(log_names_mal, logs_privmsg_mal_divided):\n",
    "    for channel in logs.keys():\n",
    "        m = get_active_users(logs[channel])\n",
    "        print(channel)\n",
    "        print(m)"
   ]
  },
  {
   "cell_type": "markdown",
   "metadata": {},
   "source": [
    "### Benign Samples"
   ]
  },
  {
   "cell_type": "code",
   "execution_count": 16,
   "metadata": {},
   "outputs": [
    {
     "name": "stdout",
     "output_type": "stream",
     "text": [
      "#worldchat\n",
      "201\n",
      "#amigacs\n",
      "6\n",
      "#sscait\n",
      "1\n",
      "#networker\n",
      "70\n",
      "#red_rulz\n",
      "11\n",
      "#linux.cz\n",
      "1\n",
      "#programatori\n",
      "38\n",
      "#brno\n",
      "10\n",
      "#dump\n",
      "13\n",
      "#quizer\n",
      "5\n",
      "#atw\n",
      "40\n",
      "#take-over\n",
      "26\n",
      "#linux-cs\n",
      "19\n",
      "#openbsd\n",
      "14\n",
      "#pomoc\n",
      "8\n",
      "#love\n",
      "13\n",
      "#Kiev\n",
      "9\n",
      "#news.cz\n",
      "24\n",
      "#praha\n",
      "11\n",
      "#medvidkove\n",
      "12\n",
      "#adom\n",
      "17\n",
      "#cz\n",
      "10\n",
      "#idlerpg.hu\n",
      "1\n",
      "#Cybercafe\n",
      "4\n",
      "#styja\n",
      "4\n",
      "#cd3\n",
      "1\n",
      "#netbsd\n",
      "10\n",
      "#hitalios\n",
      "1\n",
      "#NetBSD\n",
      "2\n",
      "#cd1\n",
      "1\n",
      "#zcu\n",
      "5\n",
      "#romania\n",
      "7\n",
      "#OpenBSD\n",
      "1\n",
      "#9x9pub\n",
      "1\n",
      "#WORLDCHAT\n",
      "1\n",
      "#ddos\n",
      "3\n",
      "#kiev\n",
      "1\n",
      "#freebsd\n",
      "5\n",
      "#beginner\n",
      "5\n",
      "#Jakarta\n",
      "1\n",
      "#ATW\n",
      "1\n",
      "#turks\n",
      "2\n",
      "#Beginner\n",
      "2\n",
      "#..\n",
      "5\n",
      "#dupa_maryny\n",
      "3\n",
      "#kosice\n",
      "2\n",
      "#obsd\n",
      "2\n",
      "#Becka\n",
      "1\n",
      "#u\n",
      "1\n",
      "#7gods\n",
      "1\n",
      "#Kosice\n",
      "2\n",
      "#dupa\n",
      "2\n",
      "#cs\n",
      "6\n",
      "#vilo\n",
      "5\n",
      "#praha12.net\n",
      "1\n",
      "#testerz\n",
      "1\n",
      "#android.pl\n",
      "4\n",
      "#brute\n",
      "3\n",
      "#kepra\n",
      "1\n",
      "#bsd.cz\n",
      "1\n",
      "#imperium\n",
      "4\n",
      "#bordel\n",
      "2\n",
      "#cs-opers\n",
      "2\n",
      "#orava\n",
      "2\n",
      "#croatia\n",
      "3\n",
      "#cvut\n",
      "4\n",
      "#Becka,#ave\n",
      "1\n",
      "#slovensko\n",
      "1\n",
      "#czestochowa\n",
      "1\n",
      "#Romania\n",
      "1\n",
      "#funkychat\n",
      "1\n",
      "#z\n",
      "1\n",
      "#makedonia\n",
      "1\n"
     ]
    }
   ],
   "source": [
    "for ln, logs in zip(log_names_benign, logs_privmsg_benign_divided):\n",
    "    for channel in logs.keys():\n",
    "        m = get_active_users(logs[channel])\n",
    "        print(channel)\n",
    "        print(m)"
   ]
  },
  {
   "cell_type": "markdown",
   "metadata": {},
   "source": [
    "## Network Info - Number of Services"
   ]
  },
  {
   "cell_type": "code",
   "execution_count": 1,
   "metadata": {},
   "outputs": [],
   "source": [
    "def get_num_services(logs):\n",
    "    try:\n",
    "        num_services = list(map(lambda x: x['services'], logs))\n",
    "        return max(num_services)\n",
    "    except:\n",
    "        return 0"
   ]
  },
  {
   "cell_type": "markdown",
   "metadata": {},
   "source": [
    "### Malicious Samples"
   ]
  },
  {
   "cell_type": "code",
   "execution_count": 10,
   "metadata": {},
   "outputs": [
    {
     "name": "stdout",
     "output_type": "stream",
     "text": [
      "0\n",
      "0\n",
      "0\n",
      "0\n",
      "0\n",
      "0\n",
      "0\n",
      "0\n"
     ]
    }
   ],
   "source": [
    "for ln, l in zip(log_names_mal, logs_networkinfo_mal):\n",
    "    m = get_num_services(l)\n",
    "    print(m)"
   ]
  },
  {
   "cell_type": "markdown",
   "metadata": {},
   "source": [
    "### Benign Samples"
   ]
  },
  {
   "cell_type": "code",
   "execution_count": 11,
   "metadata": {},
   "outputs": [
    {
     "name": "stdout",
     "output_type": "stream",
     "text": [
      "2\n"
     ]
    }
   ],
   "source": [
    "for ln, l in zip(log_names_benign, logs_networkinfo_benign):\n",
    "    m = get_num_services(l)\n",
    "    print(m)"
   ]
  },
  {
   "cell_type": "markdown",
   "metadata": {},
   "source": [
    "## Network Info - Number of Users"
   ]
  },
  {
   "cell_type": "code",
   "execution_count": 12,
   "metadata": {},
   "outputs": [],
   "source": [
    "def get_num_users(logs):\n",
    "    try:\n",
    "        num_services = list(map(lambda x: x['users'], logs))\n",
    "        return max(num_services)\n",
    "    except:\n",
    "        return 0"
   ]
  },
  {
   "cell_type": "markdown",
   "metadata": {},
   "source": [
    "### Malicious Samples"
   ]
  },
  {
   "cell_type": "code",
   "execution_count": 13,
   "metadata": {},
   "outputs": [
    {
     "name": "stdout",
     "output_type": "stream",
     "text": [
      "0\n",
      "0\n",
      "1\n",
      "2462\n",
      "233\n",
      "1\n",
      "2\n",
      "75\n"
     ]
    }
   ],
   "source": [
    "for ln, l in zip(log_names_mal, logs_networkinfo_mal):\n",
    "    m = get_num_users(l)\n",
    "    print(m)"
   ]
  },
  {
   "cell_type": "markdown",
   "metadata": {},
   "source": [
    "### Benign Samples"
   ]
  },
  {
   "cell_type": "code",
   "execution_count": 14,
   "metadata": {},
   "outputs": [
    {
     "name": "stdout",
     "output_type": "stream",
     "text": [
      "30316\n"
     ]
    }
   ],
   "source": [
    "for ln, l in zip(log_names_benign, logs_networkinfo_benign):\n",
    "    m = get_num_users(l)\n",
    "    print(m)"
   ]
  },
  {
   "cell_type": "markdown",
   "metadata": {},
   "source": [
    "## One-channel users Ratio"
   ]
  },
  {
   "cell_type": "code",
   "execution_count": null,
   "metadata": {},
   "outputs": [],
   "source": []
  },
  {
   "cell_type": "markdown",
   "metadata": {},
   "source": [
    "### Malicous Samples"
   ]
  },
  {
   "cell_type": "code",
   "execution_count": null,
   "metadata": {},
   "outputs": [],
   "source": []
  },
  {
   "cell_type": "markdown",
   "metadata": {},
   "source": [
    "### Benign Samples"
   ]
  },
  {
   "cell_type": "code",
   "execution_count": null,
   "metadata": {},
   "outputs": [],
   "source": []
  }
 ],
 "metadata": {
  "kernelspec": {
   "display_name": "Python 3",
   "language": "python",
   "name": "python3"
  },
  "language_info": {
   "codemirror_mode": {
    "name": "ipython",
    "version": 3
   },
   "file_extension": ".py",
   "mimetype": "text/x-python",
   "name": "python",
   "nbconvert_exporter": "python",
   "pygments_lexer": "ipython3",
   "version": "3.7.6"
  }
 },
 "nbformat": 4,
 "nbformat_minor": 4
}
